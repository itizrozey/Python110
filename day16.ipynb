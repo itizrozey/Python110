{
 "cells": [
  {
   "cell_type": "code",
   "execution_count": 7,
   "id": "30c53a00",
   "metadata": {},
   "outputs": [
    {
     "name": "stdout",
     "output_type": "stream",
     "text": [
      "uoy evol i\n"
     ]
    }
   ],
   "source": [
    "def number(n):\n",
    "    return n[::-1]\n",
    "print(number('i love you'))\n",
    "    "
   ]
  },
  {
   "cell_type": "code",
   "execution_count": 28,
   "id": "c2e32f59",
   "metadata": {},
   "outputs": [
    {
     "ename": "IndentationError",
     "evalue": "unexpected indent (1127753522.py, line 7)",
     "output_type": "error",
     "traceback": [
      "\u001b[1;36m  Input \u001b[1;32mIn [28]\u001b[1;36m\u001b[0m\n\u001b[1;33m    for x in range number:\u001b[0m\n\u001b[1;37m    ^\u001b[0m\n\u001b[1;31mIndentationError\u001b[0m\u001b[1;31m:\u001b[0m unexpected indent\n"
     ]
    }
   ],
   "source": [
    "def numlist():\n",
    "    number = int(input('Please enter the Total Number of List Elements: '))\n",
    "    for i in range(1, number + 1):\n",
    "        value = int(input(\"Please enter the Value of %d Element : \" %i))\n",
    "        numlist.append(value)\n",
    "    print('The even number list are:')    \n",
    "      for x in range number:\n",
    "            if(numList[] % 2 == 0):\n",
    "                `print(numlist[x], end=' ')\n",
    "\n",
    "numlist(range(1,13))"
   ]
  },
  {
   "cell_type": "code",
   "execution_count": 22,
   "id": "98571e1a",
   "metadata": {},
   "outputs": [
    {
     "data": {
      "text/plain": [
       "[1, 5, 6, 8, 2, 3]"
      ]
     },
     "execution_count": 22,
     "metadata": {},
     "output_type": "execute_result"
    }
   ],
   "source": [
    "def unique(num):\n",
    "    x=[]\n",
    "    for i in num:\n",
    "        if i not in x:\n",
    "            x.append(i)\n",
    "    return(x)\n",
    "unique([1,5,6,8,8,8,1,2,2,3,3,3,3])"
   ]
  },
  {
   "cell_type": "code",
   "execution_count": 24,
   "id": "1e986afe",
   "metadata": {},
   "outputs": [
    {
     "data": {
      "text/plain": [
       "[24]"
      ]
     },
     "execution_count": 24,
     "metadata": {},
     "output_type": "execute_result"
    }
   ],
   "source": [
    "def even(num):\n",
    "    evenlist=[]\n",
    "    for i in num:\n",
    "        if i % 2 ==0:\n",
    "            evenlist.append(i)\n",
    "    return(evenlist)\n",
    "even([1,24])"
   ]
  },
  {
   "cell_type": "code",
   "execution_count": 26,
   "id": "eb43402b",
   "metadata": {},
   "outputs": [
    {
     "name": "stdout",
     "output_type": "stream",
     "text": [
      "[1, 4, 9, 16, 25, 36, 49, 64, 81, 100, 121, 144, 169, 196, 225, 256, 289, 324, 361, 400, 441, 484, 529, 576, 625, 676, 729, 784, 841, 900]\n"
     ]
    }
   ],
   "source": [
    "def square():\n",
    "    output=[]\n",
    "    for i in range(1,31):\n",
    "        output.append(i**2)\n",
    "    print(output)\n",
    "square()"
   ]
  },
  {
   "cell_type": "code",
   "execution_count": 30,
   "id": "09734404",
   "metadata": {},
   "outputs": [
    {
     "name": "stdout",
     "output_type": "stream",
     "text": [
      "Square root after specific milliseconds:\n",
      "4.0\n",
      "10.0\n",
      "158.42979517754858\n"
     ]
    }
   ],
   "source": [
    "from time import sleep\n",
    "import math\n",
    "def delay(fn, ms, *args):\n",
    "    sleep(ms/1000)\n",
    "    return fn(*args)\n",
    "print('Square root after specific milliseconds:')\n",
    "print(delay(lambda x: math.sqrt(x), 100, 16))\n",
    "print(delay(lambda x: math.sqrt(x), 1000, 100))\n",
    "print(delay(lambda x: math.sqrt(x), 2000, 25100))\n",
    "    "
   ]
  },
  {
   "cell_type": "code",
   "execution_count": 31,
   "id": "8e0fab9c",
   "metadata": {},
   "outputs": [],
   "source": [
    "#File handling\n",
    "#access mode are as followed\n",
    "# w:write\n",
    "# r:read\n",
    "# a:append \n",
    "# r+:read&wright\n"
   ]
  },
  {
   "cell_type": "code",
   "execution_count": 35,
   "id": "3947da94",
   "metadata": {},
   "outputs": [],
   "source": [
    "file = open('demo.txt','w')\n",
    "file.write(''' simple approach to print even numbers in a list is to\n",
    "Iterate each element in the list using for loop and check if num % 2 == 0, If the condition satisfies, \n",
    "then only print the number. For that, you can use for loop or filter & lambda function or list comprehension with if statements. Python program to print even numbers in a list\n",
    "Python program to print even numbers in a list | Example code - T…''')\n",
    "file.close()"
   ]
  },
  {
   "cell_type": "code",
   "execution_count": 37,
   "id": "909f7c68",
   "metadata": {},
   "outputs": [
    {
     "name": "stdout",
     "output_type": "stream",
     "text": [
      " simple approach to print even numbers in a list is to\n",
      "Iterate each element in the list using for loop and check if num % 2 == 0, If the condition satisfies, \n",
      "then only print the number. For that, you can use for loop or filter & lambda function or list comprehension with if statements. Python program to print even numbers in a list\n",
      "Python program to print even numbers in a list | Example code - T…\n"
     ]
    }
   ],
   "source": [
    "file=open('demo.txt','r')\n",
    "print(file.read())\n",
    "file.close()"
   ]
  },
  {
   "cell_type": "code",
   "execution_count": 38,
   "id": "735d5d39",
   "metadata": {},
   "outputs": [],
   "source": [
    "file=open('demo.txt','a')\n",
    "file.write('\\n simple approach to print even numbers in a list is to')\n",
    "file.close()"
   ]
  },
  {
   "cell_type": "code",
   "execution_count": 39,
   "id": "b3f08d14",
   "metadata": {},
   "outputs": [
    {
     "name": "stdout",
     "output_type": "stream",
     "text": [
      " simple approach to print even numbers in a list is to\n",
      "Iterate each element in the list using for loop and check if num % 2 == 0, If the condition satisfies, \n",
      "then only print the number. For that, you can use for loop or filter & lambda function or list comprehension with if statements. Python program to print even numbers in a list\n",
      "Python program to print even numbers in a list | Example code - T…\n",
      " simple approach to print even numbers in a list is to\n"
     ]
    }
   ],
   "source": [
    "file=open('demo.txt','r+')\n",
    "print(file.read())\n",
    "file.write(' each element in the list using for loop ')\n",
    "file.close()"
   ]
  },
  {
   "cell_type": "code",
   "execution_count": null,
   "id": "cdae3459",
   "metadata": {},
   "outputs": [],
   "source": []
  }
 ],
 "metadata": {
  "kernelspec": {
   "display_name": "Python 3 (ipykernel)",
   "language": "python",
   "name": "python3"
  },
  "language_info": {
   "codemirror_mode": {
    "name": "ipython",
    "version": 3
   },
   "file_extension": ".py",
   "mimetype": "text/x-python",
   "name": "python",
   "nbconvert_exporter": "python",
   "pygments_lexer": "ipython3",
   "version": "3.9.12"
  }
 },
 "nbformat": 4,
 "nbformat_minor": 5
}
