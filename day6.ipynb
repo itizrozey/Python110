{
 "cells": [
  {
   "cell_type": "markdown",
   "id": "0e515417",
   "metadata": {},
   "source": [
    "# Function"
   ]
  },
  {
   "cell_type": "code",
   "execution_count": 1,
   "id": "c0f1dedb",
   "metadata": {},
   "outputs": [
    {
     "name": "stdout",
     "output_type": "stream",
     "text": [
      "Welcome to early code\n"
     ]
    }
   ],
   "source": [
    "def greet(): # a function without a parameter or argument\n",
    "    print('Welcome to early code')\n",
    "greet()"
   ]
  },
  {
   "cell_type": "code",
   "execution_count": 5,
   "id": "77775520",
   "metadata": {},
   "outputs": [
    {
     "name": "stdout",
     "output_type": "stream",
     "text": [
      "Welcome to early code Rozey\n"
     ]
    }
   ],
   "source": [
    "def greet2(name):\n",
    "    print(f'Welcome to early code {name}')\n",
    "greet2('Rozey')"
   ]
  },
  {
   "cell_type": "code",
   "execution_count": 7,
   "id": "76295812",
   "metadata": {},
   "outputs": [
    {
     "name": "stdout",
     "output_type": "stream",
     "text": [
      "NAME:{name}\n",
      "    GENDER:{gender}\n",
      "    AGE:{age}\n",
      "    \n",
      "Congratulation you are aligible to vote\n"
     ]
    }
   ],
   "source": [
    "def checkvote(name,gender,age):\n",
    "    print('''NAME:{name}\n",
    "    GENDER:{gender}\n",
    "    AGE:{age}\n",
    "    ''')\n",
    "    if age>=18:\n",
    "        print('Congratulation you are aligible to vote')\n",
    "    \n",
    "    else:\n",
    "        print('Oppsss try again next year')\n",
    "checkvote('Uche','Male',19)"
   ]
  },
  {
   "cell_type": "code",
   "execution_count": 9,
   "id": "bd91b51f",
   "metadata": {},
   "outputs": [
    {
     "name": "stdout",
     "output_type": "stream",
     "text": [
      "NAME:{name}\n",
      "    GENDER:{gender}\n",
      "    AGE:{age}\n",
      "    \n",
      "Oppsss try again next year\n"
     ]
    }
   ],
   "source": [
    "def checkvote(name,gender,age=18):\n",
    "    print('''NAME:{name}\n",
    "    GENDER:{gender}\n",
    "    AGE:{age}\n",
    "    ''')\n",
    "    if age>=18:\n",
    "        print('Congratulation you are aligible to vote')\n",
    "    \n",
    "    else:\n",
    "        print('Oppsss try again next year')\n",
    "checkvote('Uche','Male',17)"
   ]
  },
  {
   "cell_type": "code",
   "execution_count": 15,
   "id": "4771b95a",
   "metadata": {},
   "outputs": [
    {
     "name": "stdout",
     "output_type": "stream",
     "text": [
      "<class 'tuple'>\n",
      "Average of 10 numbers which are (1, 2, 3, 4, 44, 54, 65, 76, 8, 775)is 103.2\n"
     ]
    }
   ],
   "source": [
    "def average(*num):\n",
    "    print(type(num))\n",
    "    print(f'Average of {len(num)} numbers which are {num}is {sum(num)/len(num)}')\n",
    "average(1,2,3,4,44,54,65,76,8,775)"
   ]
  },
  {
   "cell_type": "code",
   "execution_count": 18,
   "id": "b0c23d4c",
   "metadata": {},
   "outputs": [
    {
     "name": "stdout",
     "output_type": "stream",
     "text": [
      "<class 'dict'>\n",
      "Name:::Paul\n",
      "Gender:::Male\n",
      "Age:::46\n"
     ]
    }
   ],
   "source": [
    "def records(**details):\n",
    "    print(type(details))\n",
    "    for key, values in details.items():\n",
    "        print(f'{key}:::{values}')\n",
    "records(Name='Paul',Gender='Male',Age=46)"
   ]
  },
  {
   "cell_type": "code",
   "execution_count": 1,
   "id": "ef157aac",
   "metadata": {},
   "outputs": [
    {
     "name": "stdout",
     "output_type": "stream",
     "text": [
      "Player One Score:8\n",
      "Player Two Score:10\n",
      "PLAYER TWO WINS!!!!\n",
      "Player One Score:8\n",
      "Player Two Score:4\n",
      "PLAYER ONE WINS!!!!\n",
      "Player One Score:9\n",
      "Player Two Score:3\n",
      "PLAYER ONE WINS!!!!\n",
      "Player One Score:4\n",
      "Player Two Score:8\n",
      "PLAYER TWO WINS!!!!\n",
      "Player One Score:10\n",
      "Player Two Score:7\n",
      "PLAYER ONE WINS!!!!\n",
      "Player One Score:6\n",
      "Player Two Score:4\n",
      "PLAYER ONE WINS!!!!\n",
      "Player One Score:8\n",
      "Player Two Score:10\n",
      "PLAYER TWO WINS!!!!\n",
      "Player One Score:7\n",
      "Player Two Score:9\n",
      "PLAYER TWO WINS!!!!\n",
      "Player One Score:7\n",
      "Player Two Score:6\n",
      "PLAYER ONE WINS!!!!\n",
      "Player One Score:6\n",
      "Player Two Score:6\n",
      "ITS A DRAW!!!!\n",
      "Player One is the overall winner by a total score of 27\n"
     ]
    }
   ],
   "source": [
    "def roll_a_dice():\n",
    "    import random as rn\n",
    "    playeronescore = 0\n",
    "    playertwoscore = 0\n",
    "    for i in range(1,11):\n",
    "        dice1 = rn.randint(1,6) + rn.randint(1,6)\n",
    "        dice2 = rn.randint(1,6) + rn.randint(1,6)\n",
    "        if dice1>dice2:\n",
    "            print(f'Player One Score:{dice1}')\n",
    "            print(f'Player Two Score:{dice2}')\n",
    "            print('PLAYER ONE WINS!!!!')\n",
    "            playeronescore = playeronescore + 5\n",
    "        elif dice2>dice1:\n",
    "            print(f'Player One Score:{dice1}')\n",
    "            print(f'Player Two Score:{dice2}')\n",
    "            print('PLAYER TWO WINS!!!!')\n",
    "            playertwoscore = playertwoscore + 5\n",
    "        else:\n",
    "            print(f'Player One Score:{dice1}')\n",
    "            print(f'Player Two Score:{dice2}')\n",
    "            print('ITS A DRAW!!!!')\n",
    "            playeronescore = playeronescore + 2\n",
    "            playertwoscore = playertwoscore + 2\n",
    "    if playeronescore > playertwoscore:\n",
    "        print(f'Player One is the overall winner by a total score of {playeronescore}')\n",
    "    elif playertwoscore > playeronescore:\n",
    "        print(f'Player Two is the overall winner by a total score of {playertwoscore}')\n",
    "    else:\n",
    "        print('ITS A DRAW!!!!!! BOTH PLAYERS HAVE THE SAME SCORE')\n",
    "roll_a_dice()\n",
    "          "
   ]
  },
  {
   "cell_type": "code",
   "execution_count": null,
   "id": "aee736b4",
   "metadata": {},
   "outputs": [],
   "source": []
  },
  {
   "cell_type": "code",
   "execution_count": null,
   "id": "7cb55dce",
   "metadata": {},
   "outputs": [],
   "source": []
  },
  {
   "cell_type": "code",
   "execution_count": null,
   "id": "9348a0b1",
   "metadata": {},
   "outputs": [],
   "source": []
  },
  {
   "cell_type": "code",
   "execution_count": null,
   "id": "51898199",
   "metadata": {},
   "outputs": [],
   "source": []
  },
  {
   "cell_type": "code",
   "execution_count": null,
   "id": "e82fb553",
   "metadata": {},
   "outputs": [],
   "source": []
  }
 ],
 "metadata": {
  "kernelspec": {
   "display_name": "Python 3 (ipykernel)",
   "language": "python",
   "name": "python3"
  },
  "language_info": {
   "codemirror_mode": {
    "name": "ipython",
    "version": 3
   },
   "file_extension": ".py",
   "mimetype": "text/x-python",
   "name": "python",
   "nbconvert_exporter": "python",
   "pygments_lexer": "ipython3",
   "version": "3.9.12"
  }
 },
 "nbformat": 4,
 "nbformat_minor": 5
}
