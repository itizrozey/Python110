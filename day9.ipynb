{
 "cells": [
  {
   "cell_type": "markdown",
   "id": "d892e08a",
   "metadata": {},
   "source": [
    "# Error Handling"
   ]
  },
  {
   "cell_type": "code",
   "execution_count": null,
   "id": "8db92e9b",
   "metadata": {},
   "outputs": [],
   "source": [
    "try:\n",
    "    num1=int(input('Enter a value:'))\n",
    "    num2=int(input('Enter seecond value'))\n",
    "    print(num1+num2)\n",
    "except:\n",
    "    print('You have encounted one or more errors ')\n",
    "    "
   ]
  },
  {
   "cell_type": "code",
   "execution_count": 3,
   "id": "a3a9ff45",
   "metadata": {},
   "outputs": [
    {
     "name": "stdout",
     "output_type": "stream",
     "text": [
      "Enter a value:4\n",
      "Enter seecond value8.0\n",
      "You have Entered the wrong value,only integers value is expected\n"
     ]
    }
   ],
   "source": [
    "try:\n",
    "    num1=int(input('Enter a value:'))\n",
    "    num2=int(input('Enter seecond value'))\n",
    "    print(num1+num2)\n",
    "except ValueError:\n",
    "    print('You have Entered the wrong value,only integers value is expected')\n",
    "except:\n",
    "    print('You have encounted one or more errors ')\n",
    "    "
   ]
  },
  {
   "cell_type": "code",
   "execution_count": 6,
   "id": "3cb91c54",
   "metadata": {},
   "outputs": [
    {
     "name": "stdout",
     "output_type": "stream",
     "text": [
      "Enter a value:9\n",
      "Enter seecond value7\n",
      "Choose the operation you want to execute:(+,-,/,*)___/\n",
      "9 / 7 = 1.2857142857142858\n",
      "4782969\n",
      "Program has ended\n"
     ]
    }
   ],
   "source": [
    "try:\n",
    "    num1=int(input('Enter a value:'))\n",
    "    num2=int(input('Enter seecond value'))\n",
    "    option=input('Choose the operation you want to execute:(+,-,/,*):')\n",
    "    if option == '+':\n",
    "        print(f'{num1} + {num2} = {num1 + num2}')\n",
    "    elif option == '-':\n",
    "        print(f'{num1} - {num2} = {num1 - num2}')\n",
    "    elif option == '/':\n",
    "        print(f'{num1} / {num2} = {num1 / num2}')\n",
    "    elif option == '*':\n",
    "        print(f'{num1} * {num2} = {num1 * num2}')\n",
    "except ValueError:\n",
    "    print('You have Entered the wrong value,only integers value is expected')\n",
    "except ZeroDivisionError:\n",
    "    print('Sorry you cannot divide a number by 0')\n",
    "except:\n",
    "    print('You have encounted one or more errors ')\n",
    "else:\n",
    "    print(num1**num2)\n",
    "finally:\n",
    "    print('Program has ended')"
   ]
  },
  {
   "cell_type": "code",
   "execution_count": null,
   "id": "e0649221",
   "metadata": {},
   "outputs": [],
   "source": []
  }
 ],
 "metadata": {
  "kernelspec": {
   "display_name": "Python 3 (ipykernel)",
   "language": "python",
   "name": "python3"
  },
  "language_info": {
   "codemirror_mode": {
    "name": "ipython",
    "version": 3
   },
   "file_extension": ".py",
   "mimetype": "text/x-python",
   "name": "python",
   "nbconvert_exporter": "python",
   "pygments_lexer": "ipython3",
   "version": "3.9.12"
  }
 },
 "nbformat": 4,
 "nbformat_minor": 5
}
