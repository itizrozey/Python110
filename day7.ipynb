{
 "cells": [
  {
   "cell_type": "code",
   "execution_count": 1,
   "id": "89b428de",
   "metadata": {},
   "outputs": [
    {
     "data": {
      "text/plain": [
       "72"
      ]
     },
     "execution_count": 1,
     "metadata": {},
     "output_type": "execute_result"
    }
   ],
   "source": [
    "(lambda x,y:x*y)(9,8)"
   ]
  },
  {
   "cell_type": "code",
   "execution_count": 13,
   "id": "7be22850",
   "metadata": {},
   "outputs": [
    {
     "name": "stdout",
     "output_type": "stream",
     "text": [
      "Enter Your Name:Uche\n",
      "Uche\n"
     ]
    }
   ],
   "source": [
    "nam1=(input('Enter Your Name:'))\n",
    "if nam1[0] ==nam1[0].upper():\n",
    "    print(nam1)\n",
    "else:\n",
    "    print('ERROR')"
   ]
  },
  {
   "cell_type": "raw",
   "id": "84a45e8b",
   "metadata": {},
   "source": []
  },
  {
   "cell_type": "code",
   "execution_count": 14,
   "id": "4ea31fb8",
   "metadata": {},
   "outputs": [
    {
     "name": "stdout",
     "output_type": "stream",
     "text": [
      "Please Provide nYour nameidf\n"
     ]
    },
    {
     "data": {
      "text/plain": [
       "'idf does not start with an uppercase letter'"
      ]
     },
     "execution_count": 14,
     "metadata": {},
     "output_type": "execute_result"
    }
   ],
   "source": [
    "(lambda name:f'{name} start with a uppercase letter' if name[0] == name[0].upper()else f'{name} does not start with an uppercase letter')(input('Please Provide nYour name'))"
   ]
  },
  {
   "cell_type": "code",
   "execution_count": 25,
   "id": "21852062",
   "metadata": {},
   "outputs": [
    {
     "ename": "SyntaxError",
     "evalue": "invalid syntax (2688168527.py, line 1)",
     "output_type": "error",
     "traceback": [
      "\u001b[1;36m  Input \u001b[1;32mIn [25]\u001b[1;36m\u001b[0m\n\u001b[1;33m    (lambda password:f'Login Succssful' if password[0]==password[0].upper() and len(password)>=10 and password[-1]=='0' or )(lambda username, password:f'Login Succssful' if password[0]==password[0].upper() and len(password)>=10 and password[-1]=='0' or password[-1]=='1' or password[-1]=='2' orpassword[-1]=='3' password[-1]=='4' or password[-1]=='5' else f'Invalid Login')(input('Please Provide Your Username:')),(input('Enter your password:'))\u001b[0m\n\u001b[1;37m                                                                                                                           ^\u001b[0m\n\u001b[1;31mSyntaxError\u001b[0m\u001b[1;31m:\u001b[0m invalid syntax\n"
     ]
    }
   ],
   "source": [
    "(lambda \n",
    " \n",
    " \n",
    " \n",
    " \n",
    "password:f'Login Succssful' if password[0]==password[0].upper() and len(password)>=10 and password[-1]=='0' or )(lambda username, password:f'Login Succssful' if password[0]==password[0].upper() and len(password)>=10 and password[-1]=='0' or password[-1]=='1' or password[-1]=='2' orpassword[-1]=='3' password[-1]=='4' or password[-1]=='5' else f'Invalid Login')(input('Please Provide Your Username:')),(input('Enter your password:'))"
   ]
  },
  {
   "cell_type": "code",
   "execution_count": 27,
   "id": "8554eaeb",
   "metadata": {},
   "outputs": [
    {
     "name": "stdout",
     "output_type": "stream",
     "text": [
      "['BINGO', 'BARRY', 'ROCKY', 'ROOTLESS', 'SHANKO', 'BOOT']\n"
     ]
    }
   ],
   "source": [
    "dogs=['bingo','barry','rocky','rootless','shanko','boot']\n",
    "update_dogs=list(map(lambda x: str.upper(x),dogs))\n",
    "print(update_dogs)"
   ]
  },
  {
   "cell_type": "code",
   "execution_count": 37,
   "id": "320b9c48",
   "metadata": {},
   "outputs": [
    {
     "name": "stdout",
     "output_type": "stream",
     "text": [
      "[75, 48, 60, 65, 55, 79, 69, 60, 75, 53, 77, 53, 51, 71, 77, 54, 75, 77, 72, 63, 73, 72, 68, 53, 59, 60, 49, 46, 66, 59, 56, 57, 57, 58, 56, 59, 70, 46, 77, 79, 67, 49, 80, 79, 63, 47, 51, 77, 67, 54, 51, 59, 65, 45, 72, 72, 71, 70, 45, 45, 48, 70, 78, 64, 74, 49, 51, 56, 77, 48]\n",
      "['__doc__', '__loader__', '__name__', '__package__', '__spec__', 'acos', 'acosh', 'asin', 'asinh', 'atan', 'atan2', 'atanh', 'ceil', 'comb', 'copysign', 'cos', 'cosh', 'degrees', 'dist', 'e', 'erf', 'erfc', 'exp', 'expm1', 'fabs', 'factorial', 'floor', 'fmod', 'frexp', 'fsum', 'gamma', 'gcd', 'hypot', 'inf', 'isclose', 'isfinite', 'isinf', 'isnan', 'isqrt', 'lcm', 'ldexp', 'lgamma', 'log', 'log10', 'log1p', 'log2', 'modf', 'nan', 'nextafter', 'perm', 'pi', 'pow', 'prod', 'radians', 'remainder', 'sin', 'sinh', 'sqrt', 'tan', 'tanh', 'tau', 'trunc', 'ulp']\n",
      "[1.8750612633917, 1.6812412373755872, 1.7781512503836436, 1.8129133566428555, 1.7403626894942439, 1.8976270912904414, 1.8388490907372552, 1.7781512503836436, 1.8750612633917, 1.724275869600789, 1.8864907251724818, 1.724275869600789, 1.7075701760979363, 1.8512583487190752, 1.8864907251724818, 1.7323937598229686, 1.8750612633917, 1.8864907251724818, 1.8573324964312685, 1.7993405494535817, 1.863322860120456, 1.8573324964312685, 1.8325089127062364, 1.724275869600789, 1.7708520116421442, 1.7781512503836436, 1.6901960800285136, 1.662757831681574, 1.8195439355418688, 1.7708520116421442, 1.7481880270062005, 1.7558748556724915, 1.7558748556724915, 1.7634279935629373, 1.7481880270062005, 1.7708520116421442, 1.845098040014257, 1.662757831681574, 1.8864907251724818, 1.8976270912904414, 1.8260748027008264, 1.6901960800285136, 1.9030899869919435, 1.8976270912904414, 1.7993405494535817, 1.6720978579357175, 1.7075701760979363, 1.8864907251724818, 1.8260748027008264, 1.7323937598229686, 1.7075701760979363, 1.7708520116421442, 1.8129133566428555, 1.6532125137753437, 1.8573324964312685, 1.8573324964312685, 1.8512583487190752, 1.845098040014257, 1.6532125137753437, 1.6532125137753437, 1.6812412373755872, 1.845098040014257, 1.8920946026904804, 1.806179973983887, 1.8692317197309762, 1.6901960800285136, 1.7075701760979363, 1.7481880270062005, 1.8864907251724818, 1.6812412373755872]\n"
     ]
    }
   ],
   "source": [
    "import random\n",
    "number=[]\n",
    "counter=1\n",
    "while counter <=70:\n",
    "    num=random.randint(45,80)\n",
    "    number.append(num)\n",
    "    counter=counter+1\n",
    "print(number)\n",
    "import math\n",
    "print(dir(math))\n",
    "update_number=list(map(lambda y: math.log10(y),number))\n",
    "print(update_number)"
   ]
  },
  {
   "cell_type": "markdown",
   "id": "fedb58ce",
   "metadata": {},
   "source": [
    "# filter"
   ]
  },
  {
   "cell_type": "code",
   "execution_count": 43,
   "id": "ca87b252",
   "metadata": {},
   "outputs": [
    {
     "name": "stdout",
     "output_type": "stream",
     "text": [
      "[75, 60, 65, 79, 69, 60, 75, 77, 71, 77, 75, 77, 72, 63, 73, 72, 68, 60, 66, 70, 77, 79, 67, 80, 79, 63, 77, 67, 65, 72, 72, 71, 70, 70, 78, 64, 74, 77]\n"
     ]
    }
   ],
   "source": [
    "number_update=list(filter(lambda x: x>=60,number))\n",
    "print(number_update)"
   ]
  },
  {
   "cell_type": "code",
   "execution_count": null,
   "id": "f0dc234d",
   "metadata": {},
   "outputs": [],
   "source": []
  }
 ],
 "metadata": {
  "kernelspec": {
   "display_name": "Python 3 (ipykernel)",
   "language": "python",
   "name": "python3"
  },
  "language_info": {
   "codemirror_mode": {
    "name": "ipython",
    "version": 3
   },
   "file_extension": ".py",
   "mimetype": "text/x-python",
   "name": "python",
   "nbconvert_exporter": "python",
   "pygments_lexer": "ipython3",
   "version": "3.9.12"
  }
 },
 "nbformat": 4,
 "nbformat_minor": 5
}
