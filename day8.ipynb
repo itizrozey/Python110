{
 "cells": [
  {
   "cell_type": "markdown",
   "id": "9f72dd92",
   "metadata": {},
   "source": [
    "# class and object"
   ]
  },
  {
   "cell_type": "code",
   "execution_count": 1,
   "id": "623ea178",
   "metadata": {},
   "outputs": [
    {
     "data": {
      "text/plain": [
       "'Mamaal'"
      ]
     },
     "execution_count": 1,
     "metadata": {},
     "output_type": "execute_result"
    }
   ],
   "source": [
    "class dog:\n",
    "    attr1='Mamaal'\n",
    "    attr2='bark'\n",
    "rocky=dog()\n",
    "rocky.attr1\n"
   ]
  },
  {
   "cell_type": "code",
   "execution_count": 5,
   "id": "cba4a70f",
   "metadata": {},
   "outputs": [
    {
     "name": "stdout",
     "output_type": "stream",
     "text": [
      "I belong to the family of Mamaal\n"
     ]
    }
   ],
   "source": [
    "class dog:\n",
    "    attr1='Mamaal'\n",
    "    attr2='bark'\n",
    "    def family(self):\n",
    "        print(f'I belong to the family of {self.attr1}')\n",
    "rocky=dog()\n",
    "rocky.family()\n"
   ]
  },
  {
   "cell_type": "code",
   "execution_count": 11,
   "id": "914f8271",
   "metadata": {},
   "outputs": [
    {
     "name": "stdout",
     "output_type": "stream",
     "text": [
      "GROOOMMMMM!!!!!!!!!!!!!!!!!!!!!\n",
      "Benzzz G-class has started\n",
      "None\n",
      "Please select a gear:4\n",
      "Gear placed on 4\n",
      "None\n",
      "Nitro engagged\n",
      "None\n",
      "BOOM !!!!!!!!!!!!!!!!!!!!!!!!\n",
      "Benzzz G-class has stopped\n",
      " GAME OVER !!!!!!!!!!!!!!!!!!!!!!!!!\n",
      "None\n"
     ]
    }
   ],
   "source": [
    "class carsimulation:\n",
    "    def __init__(self, brand,model,color,year,speed):\n",
    "        self.brand=brand\n",
    "        self.model=model\n",
    "        self.color=color\n",
    "        self.year=year\n",
    "        self.speed=speed\n",
    "    def start(self):\n",
    "        print('GROOOMMMMM!!!!!!!!!!!!!!!!!!!!!')\n",
    "        print(f'{self.brand} {self.model} has started')\n",
    "    def gear(self):\n",
    "        option=int(input('Please select a gear:'))\n",
    "        if option ==1:\n",
    "            print('Gear placed on 1')\n",
    "        elif option ==2:\n",
    "            print('Gear placed on 2')  \n",
    "        elif option ==3:\n",
    "            print('Gear placed on 3')\n",
    "        elif option ==4:\n",
    "            print('Gear placed on 4')\n",
    "        elif option ==5:\n",
    "            print('Gear placed on 5')\n",
    "        elif option ==6:\n",
    "            print('Gear placed on 6')\n",
    "        else:\n",
    "            print('INVALID GEAR OPTION')\n",
    "    def acceleration(self,option):\n",
    "        if option==1:\n",
    "            print('Nitro engagged')\n",
    "        elif option==2:\n",
    "            print('Nitro engagged')\n",
    "        else:\n",
    "            print('Invalid Nitro Option')\n",
    "    def stop(self):\n",
    "        print(\"BOOM !!!!!!!!!!!!!!!!!!!!!!!!\")\n",
    "        print(f'{self.brand} {self.model} has stopped')\n",
    "        print(' GAME OVER !!!!!!!!!!!!!!!!!!!!!!!!!')\n",
    "car1=carsimulation('Benzzz','G-class','White',2020,230)\n",
    "print(car1.start())\n",
    "print(car1.gear())\n",
    "print(car1.acceleration(1))\n",
    "print(car1.stop())\n",
    "\n"
   ]
  },
  {
   "cell_type": "markdown",
   "id": "b98e352d",
   "metadata": {},
   "source": [
    "# Inheritance"
   ]
  },
  {
   "cell_type": "code",
   "execution_count": 14,
   "id": "17984106",
   "metadata": {},
   "outputs": [
    {
     "name": "stdout",
     "output_type": "stream",
     "text": [
      "GROOOMMMMM!!!!!!!!!!!!!!!!!!!!!\n",
      "Toyota Highlander has started\n",
      "None\n",
      "Please select a gear:4\n",
      "Gear placed on 4\n",
      "None\n",
      "Nitro engagged\n",
      "None\n",
      "Roof Openned\n",
      "None\n",
      "BOOM !!!!!!!!!!!!!!!!!!!!!!!!\n",
      "Toyota Highlander has stopped\n",
      " GAME OVER !!!!!!!!!!!!!!!!!!!!!!!!!\n",
      "None\n"
     ]
    }
   ],
   "source": [
    "class finalsimulation(carsimulation):\n",
    "    def openroof(self,option):\n",
    "        if option==1:\n",
    "            print('Roof Openned')\n",
    "        elif option==2:\n",
    "            print('ROOF closed')\n",
    "        else:\n",
    "            print('INVALID ROOF OPTION')\n",
    "car2=finalsimulation(\"Toyota\",'Highlander','Red',2002,450)\n",
    "print(car2.start())\n",
    "print(car2.gear())\n",
    "print(car2.acceleration(1))\n",
    "print(car2.openroof(1))\n",
    "print(car2.stop())\n"
   ]
  },
  {
   "cell_type": "code",
   "execution_count": null,
   "id": "4259dcf8",
   "metadata": {},
   "outputs": [],
   "source": []
  }
 ],
 "metadata": {
  "kernelspec": {
   "display_name": "Python 3 (ipykernel)",
   "language": "python",
   "name": "python3"
  },
  "language_info": {
   "codemirror_mode": {
    "name": "ipython",
    "version": 3
   },
   "file_extension": ".py",
   "mimetype": "text/x-python",
   "name": "python",
   "nbconvert_exporter": "python",
   "pygments_lexer": "ipython3",
   "version": "3.9.12"
  }
 },
 "nbformat": 4,
 "nbformat_minor": 5
}
