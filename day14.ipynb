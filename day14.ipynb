{
 "cells": [
  {
   "cell_type": "code",
   "execution_count": 4,
   "id": "27a5af8c",
   "metadata": {},
   "outputs": [],
   "source": [
    "import pymysql"
   ]
  },
  {
   "cell_type": "code",
   "execution_count": 6,
   "id": "24cd7a75",
   "metadata": {},
   "outputs": [],
   "source": [
    "mydb= pymysql.connect(\n",
    "    host='localhost',\n",
    "    user='root',\n",
    "    password='ifeanyi110'\n",
    ")\n",
    "mycursor=mydb.cursor()"
   ]
  },
  {
   "cell_type": "code",
   "execution_count": 7,
   "id": "b4c0d697",
   "metadata": {},
   "outputs": [
    {
     "data": {
      "text/plain": [
       "1"
      ]
     },
     "execution_count": 7,
     "metadata": {},
     "output_type": "execute_result"
    }
   ],
   "source": [
    "mycursor.execute('create database school_management_system')"
   ]
  },
  {
   "cell_type": "code",
   "execution_count": 11,
   "id": "717ec7a7",
   "metadata": {},
   "outputs": [],
   "source": [
    "mydb= pymysql.connect(\n",
    "    host='localhost',\n",
    "    user='root',\n",
    "    password='ifeanyi110',\n",
    "    database='school_management_system'\n",
    ")\n",
    "mycursor=mydb.cursor()"
   ]
  },
  {
   "cell_type": "code",
   "execution_count": 1,
   "id": "1b619e23",
   "metadata": {},
   "outputs": [
    {
     "ename": "NameError",
     "evalue": "name 'mycursor' is not defined",
     "output_type": "error",
     "traceback": [
      "\u001b[1;31m---------------------------------------------------------------------------\u001b[0m",
      "\u001b[1;31mNameError\u001b[0m                                 Traceback (most recent call last)",
      "Input \u001b[1;32mIn [1]\u001b[0m, in \u001b[0;36m<cell line: 1>\u001b[1;34m()\u001b[0m\n\u001b[1;32m----> 1\u001b[0m \u001b[43mmycursor\u001b[49m\u001b[38;5;241m.\u001b[39mexecute(\u001b[38;5;124m'\u001b[39m\u001b[38;5;124mcreate table stafftable(id int not null primary key,staffname text not null,staffgender text not null,\u001b[39m\u001b[38;5;130;01m\\\u001b[39;00m\n\u001b[0;32m      2\u001b[0m \u001b[38;5;124mstaffaddress text not null,staffcontact text not null)\u001b[39m\u001b[38;5;124m'\u001b[39m)\n\u001b[0;32m      3\u001b[0m mycursor\u001b[38;5;241m.\u001b[39mexecute(\u001b[38;5;124m'\u001b[39m\u001b[38;5;124mcreate table studenttable(id int not null primary key,sname text not null,age int not null,gender text not null,address text not null,class text not null)\u001b[39m\u001b[38;5;124m'\u001b[39m)\n\u001b[0;32m      4\u001b[0m mycursor\u001b[38;5;241m.\u001b[39mexecute(\u001b[38;5;124m'\u001b[39m\u001b[38;5;124mcreate table librarytable(bookid int not null primary key,Bname text not null, class text not null)\u001b[39m\u001b[38;5;124m'\u001b[39m)\n",
      "\u001b[1;31mNameError\u001b[0m: name 'mycursor' is not defined"
     ]
    }
   ],
   "source": [
    "mycursor.execute('create table stafftable(id int not null primary key,staffname text not null,staffgender text not null,\\\n",
    "staffaddress text not null,staffcontact text not null)')\n",
    "mycursor.execute('create table studenttable(id int not null primary key,sname text not null,age int not null,gender text not null,address text not null,class text not null)')\n",
    "mycursor.execute('create table librarytable(bookid int not null primary key,Bname text not null, class text not null)')"
   ]
  },
  {
   "cell_type": "code",
   "execution_count": 20,
   "id": "317b023c",
   "metadata": {},
   "outputs": [
    {
     "name": "stdout",
     "output_type": "stream",
     "text": [
      "(1, 'Ada Ego', 18, 'F', 'FCT', 'Primary 2')\n"
     ]
    }
   ],
   "source": [
    "mycursor.execute('select * from studenttable where gender =\"F\" and class= \"primary 2\"')\n",
    "for x in mycursor:\n",
    "    print(x)"
   ]
  },
  {
   "cell_type": "code",
   "execution_count": 21,
   "id": "bf069084",
   "metadata": {},
   "outputs": [
    {
     "name": "stdout",
     "output_type": "stream",
     "text": [
      "(1, 'Ada Ego', 18, 'F', 'FCT', 'Primary 2')\n",
      "(4, 'Cesa Dosa', 17, 'F', 'EDO', 'Primary 4')\n",
      "(5, 'Dotun Bella', 19, 'F', 'KADUNA', 'Primary 6')\n",
      "(6, 'Deji Chuchi', 18, 'F', 'KANO', 'Primary 4')\n",
      "(7, 'Reachel Asily', 14, 'F', 'DELTA', 'Primary 3')\n",
      "(8, 'Yero Wakil', 15, 'M', 'IMO', 'Primary 2')\n",
      "(9, 'Amaka Nnaka', 17, 'F', 'ANAMBRA', 'Primary 1')\n"
     ]
    }
   ],
   "source": [
    "mycursor.execute('select * from studenttable where gender =\"F\" or class= \"primary 2\"')\n",
    "for x in mycursor:\n",
    "    print(x)"
   ]
  },
  {
   "cell_type": "code",
   "execution_count": 25,
   "id": "3e8f0d64",
   "metadata": {},
   "outputs": [
    {
     "name": "stdout",
     "output_type": "stream",
     "text": [
      "(1, 'Ada Ego', 18, 'F', 'FCT', 'Primary 2')\n"
     ]
    }
   ],
   "source": [
    "mycursor.execute('select * from studenttable where sname like \"Ad%\"')\n",
    "for x in mycursor:\n",
    "    print(x)"
   ]
  },
  {
   "cell_type": "code",
   "execution_count": 32,
   "id": "b1ce9751",
   "metadata": {},
   "outputs": [
    {
     "name": "stdout",
     "output_type": "stream",
     "text": [
      "(1, 'Ada Ego', 18, 'F', 'FCT', 'Primary 2')\n",
      "(7, 'Reachel Asily', 14, 'F', 'DELTA', 'Primary 3')\n",
      "(9, 'Amaka Nnaka', 17, 'F', 'ANAMBRA', 'Primary 1')\n"
     ]
    }
   ],
   "source": [
    "mycursor.execute('select * from studenttable where sname like\"__a%\"')\n",
    "for x in mycursor:\n",
    "    print(x)"
   ]
  },
  {
   "cell_type": "code",
   "execution_count": 33,
   "id": "0d94e2f5",
   "metadata": {},
   "outputs": [
    {
     "name": "stdout",
     "output_type": "stream",
     "text": [
      "(1, 'Ada Ego', 18, 'F', 'FCT', 'Primary 2')\n",
      "(3, 'Ekis Elop', 14, 'M', 'LAGOS', 'Primary 4')\n",
      "(4, 'Cesa Dosa', 17, 'F', 'EDO', 'Primary 4')\n",
      "(6, 'Deji Chuchi', 18, 'F', 'KANO', 'Primary 4')\n",
      "(8, 'Yero Wakil', 15, 'M', 'IMO', 'Primary 2')\n"
     ]
    }
   ],
   "source": [
    "mycursor.execute('select * from studenttable where class in(\"primary 2\",\"primary 4\")')\n",
    "for x in mycursor:\n",
    "    print(x)"
   ]
  },
  {
   "cell_type": "code",
   "execution_count": 34,
   "id": "6112f8a5",
   "metadata": {},
   "outputs": [],
   "source": [
    "mycursor.execute('select * from studenttable where class is null')\n",
    "for x in mycursor:\n",
    "    print(x)"
   ]
  },
  {
   "cell_type": "code",
   "execution_count": 35,
   "id": "b114b545",
   "metadata": {},
   "outputs": [
    {
     "name": "stdout",
     "output_type": "stream",
     "text": [
      "(1, 'Ada Ego', 18, 'F', 'FCT', 'Primary 2')\n",
      "(2, 'Famil Mono', 13, 'M', 'KOGI', 'Primary 3')\n",
      "(3, 'Ekis Elop', 14, 'M', 'LAGOS', 'Primary 4')\n",
      "(4, 'Cesa Dosa', 17, 'F', 'EDO', 'Primary 4')\n",
      "(5, 'Dotun Bella', 19, 'F', 'KADUNA', 'Primary 6')\n",
      "(6, 'Deji Chuchi', 18, 'F', 'KANO', 'Primary 4')\n",
      "(7, 'Reachel Asily', 14, 'F', 'DELTA', 'Primary 3')\n",
      "(8, 'Yero Wakil', 15, 'M', 'IMO', 'Primary 2')\n",
      "(9, 'Amaka Nnaka', 17, 'F', 'ANAMBRA', 'Primary 1')\n",
      "(10, 'Cocok Dallas', 19, 'M', 'RIVERS', 'Primary 3')\n"
     ]
    }
   ],
   "source": [
    "mycursor.execute('select * from studenttable where class is not null')\n",
    "for x in mycursor:\n",
    "    print(x)"
   ]
  },
  {
   "cell_type": "code",
   "execution_count": 37,
   "id": "17c9c687",
   "metadata": {},
   "outputs": [
    {
     "name": "stdout",
     "output_type": "stream",
     "text": [
      "(2, 'Famil Mono', 13, 'M', 'KOGI', 'Primary 3')\n",
      "(3, 'Ekis Elop', 14, 'M', 'LAGOS', 'Primary 4')\n",
      "(7, 'Reachel Asily', 14, 'F', 'DELTA', 'Primary 3')\n",
      "(8, 'Yero Wakil', 15, 'M', 'IMO', 'Primary 2')\n"
     ]
    }
   ],
   "source": [
    "mycursor.execute('select * from studenttable where age between 13 and 15')\n",
    "for x in mycursor:\n",
    "    print(x)"
   ]
  },
  {
   "cell_type": "code",
   "execution_count": 45,
   "id": "db27d9f9",
   "metadata": {},
   "outputs": [
    {
     "name": "stdout",
     "output_type": "stream",
     "text": [
      "('Ada Ego', 18, 'Primary 2', 'Eky Imasi', 'Primary 2')\n",
      "('Famil Mono', 13, 'Primary 3', 'Ernest Chuks', 'Head Teacher')\n",
      "('Ekis Elop', 14, 'Primary 4', 'Amaka Emaka', 'Primary 3')\n",
      "('Cesa Dosa', 17, 'Primary 4', 'Joy Kess', 'Cleaner')\n",
      "('Dotun Bella', 19, 'Primary 6', 'Kelly Roy', 'Security')\n",
      "('Deji Chuchi', 18, 'Primary 4', 'Samsom Lobi', 'Non-Academic')\n",
      "('Reachel Asily', 14, 'Primary 3', 'Daddy Mummy', 'Primary 5')\n",
      "('Yero Wakil', 15, 'Primary 2', 'Elo Swag', 'Primary 1')\n",
      "('Amaka Nnaka', 17, 'Primary 1', 'Phyna Aki', 'Primary 6')\n",
      "('Cocok Dallas', 19, 'Primary 3', 'Wasiri Khahil', 'Primary 4')\n"
     ]
    }
   ],
   "source": [
    "mycursor.execute('select studenttable.sname,studenttable.age,studenttable.class,stafftable.staffname,stafftable.classteachear from studenttable inner join stafftable on studenttable.id=stafftable.id')\n",
    "for x in mycursor:\n",
    "    print(x)\n",
    "                 \n",
    "                 \n",
    "        "
   ]
  },
  {
   "cell_type": "code",
   "execution_count": 47,
   "id": "b2f5d88c",
   "metadata": {},
   "outputs": [
    {
     "name": "stdout",
     "output_type": "stream",
     "text": [
      "('Ada Ego', 18, 'Primary 2', 'Eky Imasi', 'Primary 2')\n",
      "('Famil Mono', 13, 'Primary 3', 'Ernest Chuks', 'Head Teacher')\n",
      "('Ekis Elop', 14, 'Primary 4', 'Amaka Emaka', 'Primary 3')\n",
      "('Cesa Dosa', 17, 'Primary 4', 'Joy Kess', 'Cleaner')\n",
      "('Dotun Bella', 19, 'Primary 6', 'Kelly Roy', 'Security')\n",
      "('Deji Chuchi', 18, 'Primary 4', 'Samsom Lobi', 'Non-Academic')\n",
      "('Reachel Asily', 14, 'Primary 3', 'Daddy Mummy', 'Primary 5')\n",
      "('Yero Wakil', 15, 'Primary 2', 'Elo Swag', 'Primary 1')\n",
      "('Amaka Nnaka', 17, 'Primary 1', 'Phyna Aki', 'Primary 6')\n",
      "('Cocok Dallas', 19, 'Primary 3', 'Wasiri Khahil', 'Primary 4')\n"
     ]
    }
   ],
   "source": [
    "mycursor.execute('select studenttable.sname,studenttable.age,studenttable.class,stafftable.staffname,stafftable.classteachear from studenttable left join stafftable on studenttable.id=stafftable.id')\n",
    "for x in mycursor:\n",
    "    print(x)\n",
    "          "
   ]
  },
  {
   "cell_type": "code",
   "execution_count": 48,
   "id": "ea2349a2",
   "metadata": {},
   "outputs": [
    {
     "name": "stdout",
     "output_type": "stream",
     "text": [
      "('Ada Ego', 18, 'Primary 2', 'Eky Imasi', 'Primary 2')\n",
      "('Famil Mono', 13, 'Primary 3', 'Ernest Chuks', 'Head Teacher')\n",
      "('Ekis Elop', 14, 'Primary 4', 'Amaka Emaka', 'Primary 3')\n",
      "('Cesa Dosa', 17, 'Primary 4', 'Joy Kess', 'Cleaner')\n",
      "('Dotun Bella', 19, 'Primary 6', 'Kelly Roy', 'Security')\n",
      "('Deji Chuchi', 18, 'Primary 4', 'Samsom Lobi', 'Non-Academic')\n",
      "('Reachel Asily', 14, 'Primary 3', 'Daddy Mummy', 'Primary 5')\n",
      "('Yero Wakil', 15, 'Primary 2', 'Elo Swag', 'Primary 1')\n",
      "('Amaka Nnaka', 17, 'Primary 1', 'Phyna Aki', 'Primary 6')\n",
      "('Cocok Dallas', 19, 'Primary 3', 'Wasiri Khahil', 'Primary 4')\n"
     ]
    }
   ],
   "source": [
    "mycursor.execute('select studenttable.sname,studenttable.age,studenttable.class,stafftable.staffname,stafftable.classteachear from studenttable right join stafftable on studenttable.id=stafftable.id')\n",
    "for x in mycursor:\n",
    "    print(x)\n",
    "          "
   ]
  },
  {
   "cell_type": "code",
   "execution_count": 51,
   "id": "4b5fc2f8",
   "metadata": {},
   "outputs": [
    {
     "name": "stdout",
     "output_type": "stream",
     "text": [
      "('Cocok Dallas', 19, 'Eky Imasi')\n",
      "('Amaka Nnaka', 17, 'Eky Imasi')\n",
      "('Yero Wakil', 15, 'Eky Imasi')\n",
      "('Reachel Asily', 14, 'Eky Imasi')\n",
      "('Deji Chuchi', 18, 'Eky Imasi')\n",
      "('Dotun Bella', 19, 'Eky Imasi')\n",
      "('Cesa Dosa', 17, 'Eky Imasi')\n",
      "('Ekis Elop', 14, 'Eky Imasi')\n",
      "('Famil Mono', 13, 'Eky Imasi')\n",
      "('Ada Ego', 18, 'Eky Imasi')\n",
      "('Cocok Dallas', 19, 'Ernest Chuks')\n",
      "('Amaka Nnaka', 17, 'Ernest Chuks')\n",
      "('Yero Wakil', 15, 'Ernest Chuks')\n",
      "('Reachel Asily', 14, 'Ernest Chuks')\n",
      "('Deji Chuchi', 18, 'Ernest Chuks')\n",
      "('Dotun Bella', 19, 'Ernest Chuks')\n",
      "('Cesa Dosa', 17, 'Ernest Chuks')\n",
      "('Ekis Elop', 14, 'Ernest Chuks')\n",
      "('Famil Mono', 13, 'Ernest Chuks')\n",
      "('Ada Ego', 18, 'Ernest Chuks')\n",
      "('Cocok Dallas', 19, 'Amaka Emaka')\n",
      "('Amaka Nnaka', 17, 'Amaka Emaka')\n",
      "('Yero Wakil', 15, 'Amaka Emaka')\n",
      "('Reachel Asily', 14, 'Amaka Emaka')\n",
      "('Deji Chuchi', 18, 'Amaka Emaka')\n",
      "('Dotun Bella', 19, 'Amaka Emaka')\n",
      "('Cesa Dosa', 17, 'Amaka Emaka')\n",
      "('Ekis Elop', 14, 'Amaka Emaka')\n",
      "('Famil Mono', 13, 'Amaka Emaka')\n",
      "('Ada Ego', 18, 'Amaka Emaka')\n",
      "('Cocok Dallas', 19, 'Joy Kess')\n",
      "('Amaka Nnaka', 17, 'Joy Kess')\n",
      "('Yero Wakil', 15, 'Joy Kess')\n",
      "('Reachel Asily', 14, 'Joy Kess')\n",
      "('Deji Chuchi', 18, 'Joy Kess')\n",
      "('Dotun Bella', 19, 'Joy Kess')\n",
      "('Cesa Dosa', 17, 'Joy Kess')\n",
      "('Ekis Elop', 14, 'Joy Kess')\n",
      "('Famil Mono', 13, 'Joy Kess')\n",
      "('Ada Ego', 18, 'Joy Kess')\n",
      "('Cocok Dallas', 19, 'Kelly Roy')\n",
      "('Amaka Nnaka', 17, 'Kelly Roy')\n",
      "('Yero Wakil', 15, 'Kelly Roy')\n",
      "('Reachel Asily', 14, 'Kelly Roy')\n",
      "('Deji Chuchi', 18, 'Kelly Roy')\n",
      "('Dotun Bella', 19, 'Kelly Roy')\n",
      "('Cesa Dosa', 17, 'Kelly Roy')\n",
      "('Ekis Elop', 14, 'Kelly Roy')\n",
      "('Famil Mono', 13, 'Kelly Roy')\n",
      "('Ada Ego', 18, 'Kelly Roy')\n",
      "('Cocok Dallas', 19, 'Samsom Lobi')\n",
      "('Amaka Nnaka', 17, 'Samsom Lobi')\n",
      "('Yero Wakil', 15, 'Samsom Lobi')\n",
      "('Reachel Asily', 14, 'Samsom Lobi')\n",
      "('Deji Chuchi', 18, 'Samsom Lobi')\n",
      "('Dotun Bella', 19, 'Samsom Lobi')\n",
      "('Cesa Dosa', 17, 'Samsom Lobi')\n",
      "('Ekis Elop', 14, 'Samsom Lobi')\n",
      "('Famil Mono', 13, 'Samsom Lobi')\n",
      "('Ada Ego', 18, 'Samsom Lobi')\n",
      "('Cocok Dallas', 19, 'Daddy Mummy')\n",
      "('Amaka Nnaka', 17, 'Daddy Mummy')\n",
      "('Yero Wakil', 15, 'Daddy Mummy')\n",
      "('Reachel Asily', 14, 'Daddy Mummy')\n",
      "('Deji Chuchi', 18, 'Daddy Mummy')\n",
      "('Dotun Bella', 19, 'Daddy Mummy')\n",
      "('Cesa Dosa', 17, 'Daddy Mummy')\n",
      "('Ekis Elop', 14, 'Daddy Mummy')\n",
      "('Famil Mono', 13, 'Daddy Mummy')\n",
      "('Ada Ego', 18, 'Daddy Mummy')\n",
      "('Cocok Dallas', 19, 'Elo Swag')\n",
      "('Amaka Nnaka', 17, 'Elo Swag')\n",
      "('Yero Wakil', 15, 'Elo Swag')\n",
      "('Reachel Asily', 14, 'Elo Swag')\n",
      "('Deji Chuchi', 18, 'Elo Swag')\n",
      "('Dotun Bella', 19, 'Elo Swag')\n",
      "('Cesa Dosa', 17, 'Elo Swag')\n",
      "('Ekis Elop', 14, 'Elo Swag')\n",
      "('Famil Mono', 13, 'Elo Swag')\n",
      "('Ada Ego', 18, 'Elo Swag')\n",
      "('Cocok Dallas', 19, 'Phyna Aki')\n",
      "('Amaka Nnaka', 17, 'Phyna Aki')\n",
      "('Yero Wakil', 15, 'Phyna Aki')\n",
      "('Reachel Asily', 14, 'Phyna Aki')\n",
      "('Deji Chuchi', 18, 'Phyna Aki')\n",
      "('Dotun Bella', 19, 'Phyna Aki')\n",
      "('Cesa Dosa', 17, 'Phyna Aki')\n",
      "('Ekis Elop', 14, 'Phyna Aki')\n",
      "('Famil Mono', 13, 'Phyna Aki')\n",
      "('Ada Ego', 18, 'Phyna Aki')\n",
      "('Cocok Dallas', 19, 'Wasiri Khahil')\n",
      "('Amaka Nnaka', 17, 'Wasiri Khahil')\n",
      "('Yero Wakil', 15, 'Wasiri Khahil')\n",
      "('Reachel Asily', 14, 'Wasiri Khahil')\n",
      "('Deji Chuchi', 18, 'Wasiri Khahil')\n",
      "('Dotun Bella', 19, 'Wasiri Khahil')\n",
      "('Cesa Dosa', 17, 'Wasiri Khahil')\n",
      "('Ekis Elop', 14, 'Wasiri Khahil')\n",
      "('Famil Mono', 13, 'Wasiri Khahil')\n",
      "('Ada Ego', 18, 'Wasiri Khahil')\n"
     ]
    }
   ],
   "source": [
    "mycursor.execute('select sname,age,staffname from studenttable cross join stafftable')\n",
    "for x in mycursor:\n",
    "    print(x)"
   ]
  },
  {
   "cell_type": "code",
   "execution_count": null,
   "id": "ff974bf0",
   "metadata": {},
   "outputs": [],
   "source": []
  }
 ],
 "metadata": {
  "kernelspec": {
   "display_name": "Python 3 (ipykernel)",
   "language": "python",
   "name": "python3"
  },
  "language_info": {
   "codemirror_mode": {
    "name": "ipython",
    "version": 3
   },
   "file_extension": ".py",
   "mimetype": "text/x-python",
   "name": "python",
   "nbconvert_exporter": "python",
   "pygments_lexer": "ipython3",
   "version": "3.9.12"
  }
 },
 "nbformat": 4,
 "nbformat_minor": 5
}
