{
 "cells": [
  {
   "cell_type": "code",
   "execution_count": 1,
   "id": "c04012c1",
   "metadata": {},
   "outputs": [
    {
     "name": "stdout",
     "output_type": "stream",
     "text": [
      "15\n"
     ]
    }
   ],
   "source": [
    "num2=int(15.5)\n",
    "print(num2)"
   ]
  },
  {
   "cell_type": "code",
   "execution_count": 2,
   "id": "669972f8",
   "metadata": {},
   "outputs": [
    {
     "name": "stdout",
     "output_type": "stream",
     "text": [
      "15.0\n"
     ]
    }
   ],
   "source": [
    "num3=15\n",
    "print(float(num3))"
   ]
  },
  {
   "cell_type": "code",
   "execution_count": 3,
   "id": "a5154b2a",
   "metadata": {},
   "outputs": [
    {
     "name": "stdout",
     "output_type": "stream",
     "text": [
      "15.5\n"
     ]
    }
   ],
   "source": [
    "num4=15.5\n",
    "print(str(num4))"
   ]
  },
  {
   "cell_type": "code",
   "execution_count": 2,
   "id": "1bb39f49",
   "metadata": {},
   "outputs": [
    {
     "ename": "NameError",
     "evalue": "name 'num4' is not defined",
     "output_type": "error",
     "traceback": [
      "\u001b[1;31m---------------------------------------------------------------------------\u001b[0m",
      "\u001b[1;31mNameError\u001b[0m                                 Traceback (most recent call last)",
      "Input \u001b[1;32mIn [2]\u001b[0m, in \u001b[0;36m<cell line: 2>\u001b[1;34m()\u001b[0m\n\u001b[0;32m      1\u001b[0m num5\u001b[38;5;241m=\u001b[39m\u001b[38;5;241m15.5\u001b[39m\n\u001b[1;32m----> 2\u001b[0m \u001b[38;5;28mprint\u001b[39m(\u001b[38;5;28mint\u001b[39m(\u001b[43mnum4\u001b[49m))\n",
      "\u001b[1;31mNameError\u001b[0m: name 'num4' is not defined"
     ]
    }
   ],
   "source": [
    "num5=15.5\n",
    "print(int(num4))"
   ]
  },
  {
   "cell_type": "code",
   "execution_count": null,
   "id": "152243d0",
   "metadata": {},
   "outputs": [],
   "source": [
    "word='python'\n",
    "print(float(word))"
   ]
  },
  {
   "cell_type": "code",
   "execution_count": 1,
   "id": "a1b7209f",
   "metadata": {},
   "outputs": [
    {
     "name": "stdout",
     "output_type": "stream",
     "text": [
      "50\n"
     ]
    }
   ],
   "source": [
    "num6=int(50)\n",
    "print(num6)\n"
   ]
  },
  {
   "cell_type": "markdown",
   "id": "f0c7477c",
   "metadata": {},
   "source": [
    "# Operatos"
   ]
  },
  {
   "cell_type": "code",
   "execution_count": 8,
   "id": "0c8505f1",
   "metadata": {},
   "outputs": [
    {
     "name": "stdout",
     "output_type": "stream",
     "text": [
      "40 + 20 = 60\n",
      "40 - 20 = 20\n",
      "40 / 20 = 2.0\n",
      "40 * 20 = 800\n",
      "40 % 20 = 0\n",
      "40 // 20 = 2\n",
      "40 ** 20 = 109951162777600000000000000000000\n"
     ]
    }
   ],
   "source": [
    "num1=40\n",
    "num2=20\n",
    "print(f'{num1} + {num2} = {num1 + num2}')\n",
    "print(f'{num1} - {num2} = {num1 - num2}')\n",
    "print(f'{num1} / {num2} = {num1 / num2}')\n",
    "print(f'{num1} * {num2} = {num1 * num2}')\n",
    "print(f'{num1} % {num2} = {num1 % num2}')\n",
    "print(f'{num1} // {num2} = {num1 // num2}')\n",
    "print(f'{num1} ** {num2} = {num1 ** num2}')\n",
    " "
   ]
  },
  {
   "cell_type": "markdown",
   "id": "fa3a3a60",
   "metadata": {},
   "source": [
    "# comparism"
   ]
  },
  {
   "cell_type": "code",
   "execution_count": 12,
   "id": "648a133a",
   "metadata": {},
   "outputs": [
    {
     "name": "stdout",
     "output_type": "stream",
     "text": [
      "40 > 20 = True\n",
      "40 < 20 = False\n",
      "40 >= 20 = True\n",
      "40 <= 20 = False\n",
      "40 == 20 = False\n",
      "40 != 20 = True\n"
     ]
    }
   ],
   "source": [
    "print(f'{num1} > {num2} = {num1 > num2}')\n",
    "print(f'{num1} < {num2} = {num1 < num2}')\n",
    "print(f'{num1} >= {num2} = {num1 >= num2}')\n",
    "print(f'{num1} <= {num2} = {num1 <= num2}')\n",
    "print(f'{num1} == {num2} = {num1 == num2}')\n",
    "print(f'{num1} != {num2} = {num1 != num2}')\n",
    " \n",
    " "
   ]
  },
  {
   "cell_type": "markdown",
   "id": "6866ee58",
   "metadata": {},
   "source": [
    "# logical operators"
   ]
  },
  {
   "cell_type": "code",
   "execution_count": 13,
   "id": "8bd28356",
   "metadata": {},
   "outputs": [
    {
     "name": "stdout",
     "output_type": "stream",
     "text": [
      "False\n",
      "True\n",
      "False\n"
     ]
    }
   ],
   "source": [
    "print(num1 > num2 and num2 == num1)\n",
    "print(num1 > num2 or num2 == num1)\n",
    "print(not num1)"
   ]
  },
  {
   "cell_type": "markdown",
   "id": "08c44180",
   "metadata": {},
   "source": [
    "# Membership Operators"
   ]
  },
  {
   "cell_type": "code",
   "execution_count": 14,
   "id": "193bae73",
   "metadata": {},
   "outputs": [
    {
     "name": "stdout",
     "output_type": "stream",
     "text": [
      "False\n",
      "False\n"
     ]
    }
   ],
   "source": [
    "word='Highlevelprogramminglanguage'\n",
    "print('E' in word)\n",
    "print('e' not in word)"
   ]
  },
  {
   "cell_type": "markdown",
   "id": "f58410b9",
   "metadata": {},
   "source": [
    "# Identity operators"
   ]
  },
  {
   "cell_type": "code",
   "execution_count": 15,
   "id": "2dafec84",
   "metadata": {},
   "outputs": [
    {
     "name": "stdout",
     "output_type": "stream",
     "text": [
      "False\n",
      "True\n"
     ]
    }
   ],
   "source": [
    "print(num1 is num2)\n",
    "print(num2 is not num1)"
   ]
  },
  {
   "cell_type": "markdown",
   "id": "ca9c7d16",
   "metadata": {},
   "source": [
    "# input function"
   ]
  },
  {
   "cell_type": "code",
   "execution_count": 16,
   "id": "aaeaa294",
   "metadata": {},
   "outputs": [
    {
     "name": "stdout",
     "output_type": "stream",
     "text": [
      "please provide your name:david\n"
     ]
    }
   ],
   "source": [
    "name=input('please provide your name:')"
   ]
  },
  {
   "cell_type": "code",
   "execution_count": 19,
   "id": "0a1c5458",
   "metadata": {},
   "outputs": [
    {
     "name": "stdout",
     "output_type": "stream",
     "text": [
      "please input ypur age:21\n"
     ]
    }
   ],
   "source": [
    "age=int(input('please input ypur age:'))"
   ]
  },
  {
   "cell_type": "markdown",
   "id": "40c0f607",
   "metadata": {},
   "source": [
    "# write a python program to request for cost price of a pen, sellingrice and the quantity purchased and profit made and calculate the profit made\n"
   ]
  },
  {
   "cell_type": "code",
   "execution_count": 21,
   "id": "22b142b0",
   "metadata": {},
   "outputs": [
    {
     "name": "stdout",
     "output_type": "stream",
     "text": [
      "please provide the selling price:40\n",
      "please provide the cost price:60\n",
      "please provide the quantity purchased:20\n",
      " the profit made on 20.0pen sold for 40.0 rate is -400.0\n"
     ]
    }
   ],
   "source": [
    "sp= float(input('please provide the selling price:'))\n",
    "cp=float(input('please provide the cost price:'))\n",
    "quant=float(input('please provide the quantity purchased:'))\n",
    "totalcp= cp*quant\n",
    "totalsp= sp*quant\n",
    "profit= totalsp-totalcp\n",
    "print(f' the profit made on {quant}pen sold for {sp} rate is {profit}')"
   ]
  },
  {
   "cell_type": "code",
   "execution_count": null,
   "id": "56a5a2c7",
   "metadata": {},
   "outputs": [],
   "source": []
  }
 ],
 "metadata": {
  "kernelspec": {
   "display_name": "Python 3 (ipykernel)",
   "language": "python",
   "name": "python3"
  },
  "language_info": {
   "codemirror_mode": {
    "name": "ipython",
    "version": 3
   },
   "file_extension": ".py",
   "mimetype": "text/x-python",
   "name": "python",
   "nbconvert_exporter": "python",
   "pygments_lexer": "ipython3",
   "version": "3.9.12"
  }
 },
 "nbformat": 4,
 "nbformat_minor": 5
}
