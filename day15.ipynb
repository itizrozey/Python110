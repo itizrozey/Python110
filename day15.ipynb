{
 "cells": [
  {
   "cell_type": "markdown",
   "id": "a3f9c3a1",
   "metadata": {},
   "source": [
    "1)A list can be defined as object that are  contained in one or more items of different data types in the square brackets [] separated by a comma.  while Tuples are defined by enclosing elements in parentheses (), separated by a comma \n",
    "2)-strings\n",
    " -integers\n",
    " -floats\n",
    " -Boolean\n",
    "3)-local variable can be defined as variable that is defined inside a function\n",
    " -Global variable can be defined as variable that is defined outside a function\n",
    "4)\n",
    "5)"
   ]
  },
  {
   "cell_type": "code",
   "execution_count": 1,
   "id": "bef05c39",
   "metadata": {},
   "outputs": [],
   "source": [
    "import pymysql"
   ]
  },
  {
   "cell_type": "code",
   "execution_count": 2,
   "id": "65260158",
   "metadata": {},
   "outputs": [],
   "source": [
    "mydb=pymysql.connect(\n",
    "    host='localhost',\n",
    "    user='root',\n",
    "    password='ifeanyi110',\n",
    "    database='studentmanagementsystem'\n",
    ")\n",
    "mycursor=mydb.cursor()"
   ]
  },
  {
   "cell_type": "code",
   "execution_count": 4,
   "id": "5410d64d",
   "metadata": {},
   "outputs": [
    {
     "name": "stdout",
     "output_type": "stream",
     "text": [
      "(245,)\n"
     ]
    }
   ],
   "source": [
    "mycursor.execute('select count(age) as result from studentper')\n",
    "for x in mycursor:\n",
    "    print(x)"
   ]
  },
  {
   "cell_type": "code",
   "execution_count": 5,
   "id": "be0f009c",
   "metadata": {},
   "outputs": [
    {
     "name": "stdout",
     "output_type": "stream",
     "text": [
      "(6,)\n"
     ]
    }
   ],
   "source": [
    "mycursor.execute('select count(distinct age) as result from studentper')\n",
    "for x in mycursor:\n",
    "    print(x)"
   ]
  },
  {
   "cell_type": "code",
   "execution_count": 8,
   "id": "cf5e9a90",
   "metadata": {},
   "outputs": [
    {
     "name": "stdout",
     "output_type": "stream",
     "text": [
      "(Decimal('16983'),)\n"
     ]
    }
   ],
   "source": [
    "mycursor.execute('select sum(JS11st) as result from studentper')\n",
    "for x in mycursor:\n",
    "    print(x)"
   ]
  },
  {
   "cell_type": "code",
   "execution_count": 11,
   "id": "f4076c5c",
   "metadata": {},
   "outputs": [
    {
     "name": "stdout",
     "output_type": "stream",
     "text": [
      "('OTHER', Decimal('3913'))\n",
      "('at_home', Decimal('219'))\n",
      "('TEACHER', Decimal('1948'))\n",
      "('CIVIL SERVANT', Decimal('347'))\n",
      "('ADMIN', Decimal('5523'))\n",
      "('HEALTH', Decimal('2077'))\n",
      "('POLICE', Decimal('433'))\n",
      "('CRAFT', Decimal('689'))\n",
      "('BUSINESS', Decimal('1285'))\n",
      "('FARMER', Decimal('549'))\n"
     ]
    }
   ],
   "source": [
    "mycursor.execute('select Mjob, sum(JS11st) as result from studentper group by Mjob')\n",
    "for x in mycursor:\n",
    "    print(x)"
   ]
  },
  {
   "cell_type": "code",
   "execution_count": 12,
   "id": "ac246819",
   "metadata": {},
   "outputs": [
    {
     "name": "stdout",
     "output_type": "stream",
     "text": [
      "(13, 84)\n",
      "(12, 68)\n",
      "(11, 17)\n",
      "(14, 57)\n",
      "(10, 6)\n",
      "(15, 13)\n"
     ]
    }
   ],
   "source": [
    "mycursor.execute('select age,count(age) as result from studentper group by age')\n",
    "for x in mycursor:\n",
    "    print(x)"
   ]
  },
  {
   "cell_type": "code",
   "execution_count": 13,
   "id": "e3d69b1c",
   "metadata": {},
   "outputs": [
    {
     "name": "stdout",
     "output_type": "stream",
     "text": [
      "('OTHER', Decimal('68.6491'))\n",
      "('at_home', Decimal('73.0000'))\n",
      "('TEACHER', Decimal('69.5714'))\n",
      "('CIVIL SERVANT', Decimal('69.4000'))\n",
      "('ADMIN', Decimal('69.9114'))\n",
      "('HEALTH', Decimal('67.0000'))\n",
      "('POLICE', Decimal('72.1667'))\n",
      "('CRAFT', Decimal('68.9000'))\n",
      "('BUSINESS', Decimal('71.3889'))\n",
      "('FARMER', Decimal('68.6250'))\n"
     ]
    }
   ],
   "source": [
    "mycursor.execute('select Mjob, avg(JS11st) as result from studentper group by Mjob')\n",
    "for x in mycursor:\n",
    "    print(x)"
   ]
  },
  {
   "cell_type": "code",
   "execution_count": 14,
   "id": "1b299b34",
   "metadata": {},
   "outputs": [
    {
     "name": "stdout",
     "output_type": "stream",
     "text": [
      "(Decimal('69.3184'),)\n"
     ]
    }
   ],
   "source": [
    "mycursor.execute('select  avg(JS11st) as result from studentper ')\n",
    "for x in mycursor:\n",
    "    print(x)"
   ]
  },
  {
   "cell_type": "code",
   "execution_count": 15,
   "id": "004889d0",
   "metadata": {},
   "outputs": [
    {
     "name": "stdout",
     "output_type": "stream",
     "text": [
      "(45,)\n"
     ]
    }
   ],
   "source": [
    "mycursor.execute('select  min(JS11st) as result from studentper ')\n",
    "for x in mycursor:\n",
    "    print(x)"
   ]
  },
  {
   "cell_type": "code",
   "execution_count": 16,
   "id": "ae80f22c",
   "metadata": {},
   "outputs": [
    {
     "name": "stdout",
     "output_type": "stream",
     "text": [
      "(98,)\n"
     ]
    }
   ],
   "source": [
    "mycursor.execute('select  max(JS11st) as result from studentper ')\n",
    "for x in mycursor:\n",
    "    print(x)"
   ]
  },
  {
   "cell_type": "code",
   "execution_count": 21,
   "id": "9c22fc3b",
   "metadata": {},
   "outputs": [
    {
     "name": "stdout",
     "output_type": "stream",
     "text": [
      "('M', 13, 'RURAL', 'GT3', 'T', 1, 0, 'OTHER', 'OTHER', 'mother', 3, 2, 'no', 4, 'no', 1, 'yes', 'yes', 'no', 68, 69, 70, 71, 72, 69, 72, 70)\n"
     ]
    }
   ],
   "source": [
    "mycursor.execute('select * from studentper limit 1')\n",
    "for x in mycursor:\n",
    "    print(x)\n",
    "\n"
   ]
  },
  {
   "cell_type": "code",
   "execution_count": 23,
   "id": "e947f8b0",
   "metadata": {},
   "outputs": [
    {
     "name": "stdout",
     "output_type": "stream",
     "text": [
      "('M', 15, 'URBAN', 'GT3', 'T', 3, 2, 'HEALTH', 'ADMIN', 'father', 1, 3, 'yes', 3, 'yes', 2, 'yes', 'no', 'yes', 60, 59, 61, 63, 66, 68, 53, 52)\n",
      "('F', 15, 'URBAN', 'LE3', 'T', 3, 2, 'HEALTH', 'ADMIN', 'father', 2, 1, 'yes', 3, 'yes', 2, 'yes', 'no', 'yes', 71, 72, 73, 75, 71, 70, 69, 70)\n",
      "('M', 15, 'RURAL', 'GT3', 'A', 0, 0, 'OTHER', 'CLEANER', 'father', 3, 1, 'yes', 5, 'yes', 2, 'yes', 'no', 'yes', 63, 65, 74, 62, 59, 67, 61, 68)\n",
      "('M', 15, 'RURAL', 'GT3', 'A', 0, 0, 'OTHER', 'CLEANER', 'mother', 3, 1, 'no', 5, 'yes', 2, 'yes', 'no', 'yes', 70, 69, 68, 66, 62, 61, 68, 69)\n"
     ]
    }
   ],
   "source": [
    "mycursor.execute('select * from studentper order by age desc limit 4')\n",
    "for x in mycursor:\n",
    "    print(x)\n"
   ]
  },
  {
   "cell_type": "code",
   "execution_count": null,
   "id": "81f44fc8",
   "metadata": {},
   "outputs": [],
   "source": []
  }
 ],
 "metadata": {
  "kernelspec": {
   "display_name": "Python 3 (ipykernel)",
   "language": "python",
   "name": "python3"
  },
  "language_info": {
   "codemirror_mode": {
    "name": "ipython",
    "version": 3
   },
   "file_extension": ".py",
   "mimetype": "text/x-python",
   "name": "python",
   "nbconvert_exporter": "python",
   "pygments_lexer": "ipython3",
   "version": "3.9.12"
  }
 },
 "nbformat": 4,
 "nbformat_minor": 5
}
