{
 "cells": [
  {
   "cell_type": "code",
   "execution_count": 1,
   "id": "059d90b4",
   "metadata": {},
   "outputs": [],
   "source": [
    "import datetime"
   ]
  },
  {
   "cell_type": "code",
   "execution_count": 2,
   "id": "f50e1051",
   "metadata": {},
   "outputs": [
    {
     "name": "stdout",
     "output_type": "stream",
     "text": [
      "['MAXYEAR', 'MINYEAR', '__all__', '__builtins__', '__cached__', '__doc__', '__file__', '__loader__', '__name__', '__package__', '__spec__', 'date', 'datetime', 'datetime_CAPI', 'sys', 'time', 'timedelta', 'timezone', 'tzinfo']\n"
     ]
    }
   ],
   "source": [
    "print(dir(datetime))"
   ]
  },
  {
   "cell_type": "code",
   "execution_count": 6,
   "id": "549a1b7c",
   "metadata": {},
   "outputs": [
    {
     "data": {
      "text/plain": [
       "datetime.date(2022, 5, 25)"
      ]
     },
     "execution_count": 6,
     "metadata": {},
     "output_type": "execute_result"
    }
   ],
   "source": [
    "date1=datetime.date(2022,5,25)\n",
    "date1"
   ]
  },
  {
   "cell_type": "code",
   "execution_count": 8,
   "id": "0f29cf9b",
   "metadata": {},
   "outputs": [
    {
     "name": "stdout",
     "output_type": "stream",
     "text": [
      "2022\n",
      "5\n",
      "25\n",
      "2\n",
      "3\n"
     ]
    }
   ],
   "source": [
    "print(date1.year)\n",
    "print(date1.month)\n",
    "print(date1.day)\n",
    "print(date1.weekday())\n",
    "print(date1.isoweekday())"
   ]
  },
  {
   "cell_type": "code",
   "execution_count": 14,
   "id": "265ef88a",
   "metadata": {},
   "outputs": [
    {
     "data": {
      "text/plain": [
       "datetime.date(2022, 9, 6)"
      ]
     },
     "execution_count": 14,
     "metadata": {},
     "output_type": "execute_result"
    }
   ],
   "source": [
    "currentdate=datetime.date.today()\n",
    "currentdate"
   ]
  },
  {
   "cell_type": "code",
   "execution_count": 16,
   "id": "d4a80a77",
   "metadata": {},
   "outputs": [
    {
     "data": {
      "text/plain": [
       "'06 September, 2022'"
      ]
     },
     "execution_count": 16,
     "metadata": {},
     "output_type": "execute_result"
    }
   ],
   "source": [
    "#strftime:This is use for the modification of date and time\n",
    "\n",
    "currentdate.strftime('%d %B, %Y')"
   ]
  },
  {
   "cell_type": "code",
   "execution_count": 17,
   "id": "cbe751f7",
   "metadata": {},
   "outputs": [
    {
     "data": {
      "text/plain": [
       "datetime.time(10, 45, 55, 45568)"
      ]
     },
     "execution_count": 17,
     "metadata": {},
     "output_type": "execute_result"
    }
   ],
   "source": [
    "time1=datetime.time(10,45,55,45568)\n",
    "time1"
   ]
  },
  {
   "cell_type": "code",
   "execution_count": 19,
   "id": "6ed95536",
   "metadata": {},
   "outputs": [
    {
     "name": "stdout",
     "output_type": "stream",
     "text": [
      "10\n",
      "45\n",
      "55\n",
      "45568\n"
     ]
    }
   ],
   "source": [
    "print(time1.hour)\n",
    "print(time1.minute)\n",
    "print(time1.second)\n",
    "print(time1.microsecond)"
   ]
  },
  {
   "cell_type": "code",
   "execution_count": 20,
   "id": "c2bfbf4c",
   "metadata": {},
   "outputs": [
    {
     "data": {
      "text/plain": [
       "datetime.time(6, 13, 24, 424656)"
      ]
     },
     "execution_count": 20,
     "metadata": {},
     "output_type": "execute_result"
    }
   ],
   "source": [
    "currenttime=datetime.datetime.now().time()\n",
    "currenttime"
   ]
  },
  {
   "cell_type": "code",
   "execution_count": 23,
   "id": "4d048d66",
   "metadata": {},
   "outputs": [
    {
     "data": {
      "text/plain": [
       "'06::13::24::424656'"
      ]
     },
     "execution_count": 23,
     "metadata": {},
     "output_type": "execute_result"
    }
   ],
   "source": [
    "currenttime.strftime(\"%I::%M::%S::%f\")"
   ]
  },
  {
   "cell_type": "code",
   "execution_count": 24,
   "id": "b7a29b85",
   "metadata": {},
   "outputs": [
    {
     "data": {
      "text/plain": [
       "datetime.datetime(2022, 9, 6, 6, 19, 16, 719732)"
      ]
     },
     "execution_count": 24,
     "metadata": {},
     "output_type": "execute_result"
    }
   ],
   "source": [
    "current_date_time=datetime.datetime.now()\n",
    "current_date_time\n"
   ]
  },
  {
   "cell_type": "code",
   "execution_count": 27,
   "id": "7b8ff1b4",
   "metadata": {},
   "outputs": [
    {
     "name": "stdout",
     "output_type": "stream",
     "text": [
      "enter your dateofbirth in this format(d/m/y)21/5/17\n",
      "2017-05-21\n"
     ]
    }
   ],
   "source": [
    "dateofbirth=input('enter your dateofbirth in this format(d/m/y)')\n",
    "cdate=datetime.datetime.strptime(dateofbirth,'%d/%m/%y').date()\n",
    "print(cdate)"
   ]
  },
  {
   "cell_type": "markdown",
   "id": "7c1b1b6c",
   "metadata": {},
   "source": [
    "# write a program to print out this message \"GOOD DAY ALL MR ALI AND HIS  FAMILY IS INVITING US TO THEIR 10TH YEAR WEDING ANIVERSRY COMING UP ON THE 20 NOVEMBER,2022 BY 4PM PROMPT\""
   ]
  },
  {
   "cell_type": "code",
   "execution_count": 35,
   "id": "3ae99079",
   "metadata": {},
   "outputs": [
    {
     "name": "stdout",
     "output_type": "stream",
     "text": [
      "GOOD DAY ALL MR ALI AND HIS FAMILY IS INVITING US TO THEIR 10TH YEAR WEDING ANIVERSRY COMING UP ON THE 20 November,2022 BY 04PM prompt\n"
     ]
    }
   ],
   "source": [
    "wedingdate=datetime.datetime(2022,11,20,16,0,0,0)\n",
    "print(\"GOOD DAY ALL MR ALI AND HIS FAMILY IS INVITING US TO THEIR 10TH YEAR WEDING ANIVERSRY COMING UP ON THE\",wedingdate.strftime('%d %B,%Y BY %I%p prompt'))\n"
   ]
  },
  {
   "cell_type": "code",
   "execution_count": 36,
   "id": "42e8aa9d",
   "metadata": {},
   "outputs": [
    {
     "data": {
      "text/plain": [
       "datetime.timedelta(days=1934)"
      ]
     },
     "execution_count": 36,
     "metadata": {},
     "output_type": "execute_result"
    }
   ],
   "source": [
    "currentdate-cdate"
   ]
  },
  {
   "cell_type": "code",
   "execution_count": 37,
   "id": "dfb39cbe",
   "metadata": {},
   "outputs": [
    {
     "data": {
      "text/plain": [
       "datetime.date(2023, 2, 28)"
      ]
     },
     "execution_count": 37,
     "metadata": {},
     "output_type": "execute_result"
    }
   ],
   "source": [
    "td=datetime.timedelta(weeks=25)\n",
    "currentdate+td"
   ]
  },
  {
   "cell_type": "code",
   "execution_count": 43,
   "id": "14dd1624",
   "metadata": {},
   "outputs": [
    {
     "name": "stdout",
     "output_type": "stream",
     "text": [
      "enter user adate in this for format(d/m/Y)12/6/2023\n",
      "hey you have39 weeks and 6 days until your appiontment\n"
     ]
    }
   ],
   "source": [
    "adate=input('enter user adate in this for format(d/m/Y)')\n",
    "appdate=datetime.datetime.strptime(adate,'%d/%m/%Y').date()\n",
    "currentdate=datetime.date.today()\n",
    "diff=appdate-currentdate\n",
    "trnweeks=diff.days//7\n",
    "trndays=diff.days%7\n",
    "print(f'hey you have{trnweeks} weeks and {trndays} days until your appiontment')"
   ]
  },
  {
   "cell_type": "code",
   "execution_count": null,
   "id": "8306118c",
   "metadata": {},
   "outputs": [],
   "source": []
  },
  {
   "cell_type": "code",
   "execution_count": null,
   "id": "5f08ce48",
   "metadata": {},
   "outputs": [],
   "source": []
  }
 ],
 "metadata": {
  "kernelspec": {
   "display_name": "Python 3 (ipykernel)",
   "language": "python",
   "name": "python3"
  },
  "language_info": {
   "codemirror_mode": {
    "name": "ipython",
    "version": 3
   },
   "file_extension": ".py",
   "mimetype": "text/x-python",
   "name": "python",
   "nbconvert_exporter": "python",
   "pygments_lexer": "ipython3",
   "version": "3.9.12"
  }
 },
 "nbformat": 4,
 "nbformat_minor": 5
}
