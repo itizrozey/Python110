{
 "cells": [
  {
   "cell_type": "markdown",
   "id": "5b59bf2e",
   "metadata": {},
   "source": [
    "# Modules"
   ]
  },
  {
   "cell_type": "code",
   "execution_count": 1,
   "id": "ae20c222",
   "metadata": {},
   "outputs": [
    {
     "name": "stdout",
     "output_type": "stream",
     "text": [
      "['__doc__', '__loader__', '__name__', '__package__', '__spec__', 'acos', 'acosh', 'asin', 'asinh', 'atan', 'atan2', 'atanh', 'ceil', 'comb', 'copysign', 'cos', 'cosh', 'degrees', 'dist', 'e', 'erf', 'erfc', 'exp', 'expm1', 'fabs', 'factorial', 'floor', 'fmod', 'frexp', 'fsum', 'gamma', 'gcd', 'hypot', 'inf', 'isclose', 'isfinite', 'isinf', 'isnan', 'isqrt', 'lcm', 'ldexp', 'lgamma', 'log', 'log10', 'log1p', 'log2', 'modf', 'nan', 'nextafter', 'perm', 'pi', 'pow', 'prod', 'radians', 'remainder', 'sin', 'sinh', 'sqrt', 'tan', 'tanh', 'tau', 'trunc', 'ulp']\n"
     ]
    }
   ],
   "source": [
    "import math\n",
    "print(dir(math))"
   ]
  },
  {
   "cell_type": "code",
   "execution_count": 4,
   "id": "5b58998c",
   "metadata": {},
   "outputs": [
    {
     "name": "stdout",
     "output_type": "stream",
     "text": [
      "18\n",
      "19\n",
      "4.323771501825692\n"
     ]
    }
   ],
   "source": [
    "number=18.695\n",
    "print(math.floor(number))\n",
    "print(math.ceil(number))\n",
    "print(math.sqrt(number))"
   ]
  },
  {
   "cell_type": "code",
   "execution_count": 5,
   "id": "fb572275",
   "metadata": {},
   "outputs": [
    {
     "name": "stdout",
     "output_type": "stream",
     "text": [
      "['Counter', 'Decimal', 'Fraction', 'NormalDist', 'StatisticsError', '__all__', '__builtins__', '__cached__', '__doc__', '__file__', '__loader__', '__name__', '__package__', '__spec__', '_coerce', '_convert', '_exact_ratio', '_fail_neg', '_find_lteq', '_find_rteq', '_isfinite', '_normal_dist_inv_cdf', '_ss', '_sum', 'bisect_left', 'bisect_right', 'erf', 'exp', 'fabs', 'fmean', 'fsum', 'geometric_mean', 'groupby', 'harmonic_mean', 'hypot', 'itemgetter', 'log', 'math', 'mean', 'median', 'median_grouped', 'median_high', 'median_low', 'mode', 'multimode', 'numbers', 'pstdev', 'pvariance', 'quantiles', 'random', 'sqrt', 'stdev', 'tau', 'variance']\n"
     ]
    }
   ],
   "source": [
    "import statistics as stat\n",
    "print(dir(stat))"
   ]
  },
  {
   "cell_type": "code",
   "execution_count": 9,
   "id": "d650347a",
   "metadata": {},
   "outputs": [
    {
     "name": "stdout",
     "output_type": "stream",
     "text": [
      "42.8\n",
      "12\n",
      "428.0\n",
      "828.4\n"
     ]
    }
   ],
   "source": [
    "number1=[12,13,11,23,34,45,56,67,78,89]\n",
    "print(stat.mean(number1))\n",
    "print(stat.mode(number1))\n",
    "print(stat.fsum(number1))\n",
    "print(stat.variance(number1))"
   ]
  },
  {
   "cell_type": "code",
   "execution_count": 10,
   "id": "06d5c679",
   "metadata": {},
   "outputs": [
    {
     "name": "stdout",
     "output_type": "stream",
     "text": [
      "['BPF', 'LOG4', 'NV_MAGICCONST', 'RECIP_BPF', 'Random', 'SG_MAGICCONST', 'SystemRandom', 'TWOPI', '_Sequence', '_Set', '__all__', '__builtins__', '__cached__', '__doc__', '__file__', '__loader__', '__name__', '__package__', '__spec__', '_accumulate', '_acos', '_bisect', '_ceil', '_cos', '_e', '_exp', '_floor', '_inst', '_log', '_os', '_pi', '_random', '_repeat', '_sha512', '_sin', '_sqrt', '_test', '_test_generator', '_urandom', '_warn', 'betavariate', 'choice', 'choices', 'expovariate', 'gammavariate', 'gauss', 'getrandbits', 'getstate', 'lognormvariate', 'normalvariate', 'paretovariate', 'randbytes', 'randint', 'random', 'randrange', 'sample', 'seed', 'setstate', 'shuffle', 'triangular', 'uniform', 'vonmisesvariate', 'weibullvariate']\n"
     ]
    }
   ],
   "source": [
    "import random as rnd\n",
    "print(dir(rnd))"
   ]
  },
  {
   "cell_type": "code",
   "execution_count": 12,
   "id": "ffaec1a2",
   "metadata": {},
   "outputs": [
    {
     "name": "stdout",
     "output_type": "stream",
     "text": [
      "[34, 78, 13, 56, 67, 23, 12, 45, 11, 89]\n"
     ]
    }
   ],
   "source": [
    "rnd.shuffle(number1)\n",
    "print(number1)"
   ]
  },
  {
   "cell_type": "code",
   "execution_count": 14,
   "id": "fe0b8533",
   "metadata": {},
   "outputs": [
    {
     "name": "stdout",
     "output_type": "stream",
     "text": [
      "11\n"
     ]
    }
   ],
   "source": [
    "print(rnd.choice(number1))\n"
   ]
  },
  {
   "cell_type": "code",
   "execution_count": 16,
   "id": "74c687ec",
   "metadata": {},
   "outputs": [
    {
     "data": {
      "text/plain": [
       "17"
      ]
     },
     "execution_count": 16,
     "metadata": {},
     "output_type": "execute_result"
    }
   ],
   "source": [
    "rnd.randint(13,23)"
   ]
  },
  {
   "cell_type": "markdown",
   "id": "0cb4bf52",
   "metadata": {},
   "source": [
    "# Conditional Statement"
   ]
  },
  {
   "cell_type": "code",
   "execution_count": 19,
   "id": "ec056028",
   "metadata": {},
   "outputs": [
    {
     "name": "stdout",
     "output_type": "stream",
     "text": [
      "please input your number:99\n",
      "congratulation you have provided a number greater than zero\n"
     ]
    }
   ],
   "source": [
    "number2=int(input('please input your number:'))\n",
    "if number2>0:\n",
    "    print('congratulation you have provided a number greater than zero')\n"
   ]
  },
  {
   "cell_type": "code",
   "execution_count": 24,
   "id": "23074f04",
   "metadata": {},
   "outputs": [
    {
     "name": "stdout",
     "output_type": "stream",
     "text": [
      "please provid your password:Abcdefghijklmnopqrstuvwxyz\n",
      "Valid Password\n"
     ]
    }
   ],
   "source": [
    "password=(input('please provid your password:'))\n",
    "if password[0]==password[0].upper()and len(password)>=8:\n",
    "    print('Valid Password')\n",
    "else:\n",
    "    print ('Invalid Password:the first letter must be in uppercase and lenght must be 8 and above')"
   ]
  },
  {
   "cell_type": "code",
   "execution_count": 31,
   "id": "7564f89b",
   "metadata": {},
   "outputs": [
    {
     "name": "stdout",
     "output_type": "stream",
     "text": [
      "Student Name:v\n",
      "Student Height:1.55\n",
      "You are eligible to take part in swimming only\n"
     ]
    }
   ],
   "source": [
    "name=(input('Student Name:'))\n",
    "height=float(input('Student Height:'))\n",
    "if height >= 1.50 and height <= 1.60:\n",
    "    print('You are eligible to take part in swimming only')\n",
    "else:\n",
    "    if height >=1.61 and height <=1.70:\n",
    "        print('You are eligible to take part in swimming and long jump')\n",
    "    else:\n",
    "        print('you are eligible to take part in all sport') "
   ]
  },
  {
   "cell_type": "code",
   "execution_count": null,
   "id": "b5d1b1e0",
   "metadata": {},
   "outputs": [],
   "source": [
    "name=(input('Student Name:'))\n",
    "height=float(input('Student Height:'))\n",
    "if height >= 1.50 and height <= 1.60:\n",
    "    print('You are eligible to take part in swimming only')\n",
    "elif height >=1.61 and height <=1.70:    \n",
    "     print('You are eligible to take part in swimming and long jump'\n",
    "else:\n",
    "      print('you are eligible to take part in all sport')            "
   ]
  },
  {
   "cell_type": "code",
   "execution_count": 42,
   "id": "d61f347d",
   "metadata": {},
   "outputs": [
    {
     "name": "stdout",
     "output_type": "stream",
     "text": [
      "Enter a number:0.98\n",
      "Number is positive\n"
     ]
    }
   ],
   "source": [
    "\n",
    "num1=float(input('Enter a number:'))\n",
    "if num1>0:\n",
    "    print('Number is positive')\n",
    "else:\n",
    "    if num1<0:\n",
    "        print('Number is negative')\n",
    "    else:\n",
    "        print(\"Number is zero\")"
   ]
  },
  {
   "cell_type": "code",
   "execution_count": null,
   "id": "0d7aed5e",
   "metadata": {},
   "outputs": [],
   "source": []
  },
  {
   "cell_type": "code",
   "execution_count": null,
   "id": "d89b4320",
   "metadata": {},
   "outputs": [],
   "source": []
  }
 ],
 "metadata": {
  "kernelspec": {
   "display_name": "Python 3 (ipykernel)",
   "language": "python",
   "name": "python3"
  },
  "language_info": {
   "codemirror_mode": {
    "name": "ipython",
    "version": 3
   },
   "file_extension": ".py",
   "mimetype": "text/x-python",
   "name": "python",
   "nbconvert_exporter": "python",
   "pygments_lexer": "ipython3",
   "version": "3.9.12"
  }
 },
 "nbformat": 4,
 "nbformat_minor": 5
}
