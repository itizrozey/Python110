{
 "cells": [
  {
   "cell_type": "markdown",
   "id": "8b24aded",
   "metadata": {},
   "source": [
    "# loop"
   ]
  },
  {
   "cell_type": "code",
   "execution_count": 1,
   "id": "be8da857",
   "metadata": {},
   "outputs": [
    {
     "name": "stdout",
     "output_type": "stream",
     "text": [
      "ppp\n",
      "yyy\n",
      "ttt\n",
      "hhh\n",
      "ooo\n",
      "nnn\n"
     ]
    }
   ],
   "source": [
    "word= 'python'\n",
    "for char in word:\n",
    "    print(char*3)"
   ]
  },
  {
   "cell_type": "code",
   "execution_count": 2,
   "id": "d28e28bf",
   "metadata": {},
   "outputs": [
    {
     "name": "stdout",
     "output_type": "stream",
     "text": [
      "ppp yyy ttt hhh ooo nnn "
     ]
    }
   ],
   "source": [
    "word= 'python'\n",
    "for char in word:\n",
    "    print(char*3,end=' ')"
   ]
  },
  {
   "cell_type": "code",
   "execution_count": 3,
   "id": "9c601a32",
   "metadata": {},
   "outputs": [
    {
     "name": "stdout",
     "output_type": "stream",
     "text": [
      "pppyyyttthhhooonnn"
     ]
    }
   ],
   "source": [
    "word= 'python'\n",
    "for char in word:\n",
    "    print(char*3,end='')"
   ]
  },
  {
   "cell_type": "code",
   "execution_count": 8,
   "id": "5b8648b3",
   "metadata": {},
   "outputs": [
    {
     "name": "stdout",
     "output_type": "stream",
     "text": [
      "congratulation 08091234522 your registration is successful.\n",
      "congratulation 09087654321 your registration is successful.\n",
      "congratulation 09187654321 your registration is successful.\n",
      "congratulation 08198765432 your registration is successful.\n",
      "congratulation 07012345678 your registration is successful.\n",
      "congratulation 08012345623 your registration is successful.\n",
      "congratulation 070987654321 your registration is successful.\n"
     ]
    }
   ],
   "source": [
    "phonenumber=['08091234522','09087654321','09187654321','08198765432','07012345678','08012345623','070987654321'] \n",
    "for numbers in phonenumber:\n",
    "        print(f'congratulation {numbers} your registration is successful.')"
   ]
  },
  {
   "cell_type": "code",
   "execution_count": 4,
   "id": "2c7101a5",
   "metadata": {},
   "outputs": [
    {
     "name": "stdout",
     "output_type": "stream",
     "text": [
      "Please provide your name;Samuel\n",
      "Record found,your score in the following subject (Math,English,Chemistry,Biology and Agric) are as followed [98, 48, 55, 60, 90]\n"
     ]
    }
   ],
   "source": [
    "student_record={\n",
    "    'Samuel':[98,48,55,60,90,],\n",
    "    'Hope':[78,77,80,92,65],\n",
    "    'Jane':[70,100,66,78,90],\n",
    "    'John':[68,92,77,70,78],\n",
    "    'Faith':[90,90,95,96,99]\n",
    "}\n",
    "name=(input(\"Please provide your name;\"))\n",
    "for key in student_record:\n",
    "    if name == key:\n",
    "        print(f'Record found,your score in the following subject (Math,English,Chemistry,Biology and Agric) are as followed {student_record[key]}')"
   ]
  },
  {
   "cell_type": "code",
   "execution_count": 6,
   "id": "a0ac0ef5",
   "metadata": {},
   "outputs": [
    {
     "name": "stdout",
     "output_type": "stream",
     "text": [
      "Please provide your name;Jane\n",
      "Record found,your score in the following subject (Math,English,Chemistry,Biology and Agric) are as followed [70, 100, 66, 78, 90]\n",
      "Record not found\n"
     ]
    }
   ],
   "source": [
    "student_record={\n",
    "    'Samuel':[98,48,55,60,90,],\n",
    "    'Hope':[78,77,80,92,65],\n",
    "    'Jane':[70,100,66,78,90],\n",
    "    'John':[68,92,77,70,78],\n",
    "    'Faith':[90,90,95,96,99]\n",
    "}\n",
    "name=(input(\"Please provide your name;\"))\n",
    "for key in student_record:\n",
    "    if name == key:\n",
    "        print(f'Record found,your score in the following subject (Math,English,Chemistry,Biology and Agric) are as followed {student_record[key]}')\n",
    "else:\n",
    "    print('Record not found')"
   ]
  },
  {
   "cell_type": "code",
   "execution_count": 7,
   "id": "66f3f9ea",
   "metadata": {},
   "outputs": [
    {
     "name": "stdout",
     "output_type": "stream",
     "text": [
      "Please provide your name;Samuel\n",
      "Record found,your score in the following subject (Math,English,Chemistry,Biology and Agric) are as followed [98, 48, 55, 60, 90]\n"
     ]
    }
   ],
   "source": [
    "student_record={\n",
    "    'Samuel':[98,48,55,60,90,],\n",
    "    'Hope':[78,77,80,92,65],\n",
    "    'Jane':[70,100,66,78,90],\n",
    "    'John':[68,92,77,70,78],\n",
    "    'Faith':[90,90,95,96,99]\n",
    "}\n",
    "name=(input(\"Please provide your name;\"))\n",
    "for key in student_record:\n",
    "    if name == key:\n",
    "        print(f'Record found,your score in the following subject (Math,English,Chemistry,Biology and Agric) are as followed {student_record[key]}')\n",
    "        break\n",
    "else:\n",
    "    print('Record not found')"
   ]
  },
  {
   "cell_type": "code",
   "execution_count": 8,
   "id": "e6a3aeb2",
   "metadata": {},
   "outputs": [
    {
     "name": "stdout",
     "output_type": "stream",
     "text": [
      "Please provide your name;hh\n",
      "Record not found\n"
     ]
    }
   ],
   "source": [
    "student_record={\n",
    "    'Samuel':[98,48,55,60,90,],\n",
    "    'Hope':[78,77,80,92,65],\n",
    "    'Jane':[70,100,66,78,90],\n",
    "    'John':[68,92,77,70,78],\n",
    "    'Faith':[90,90,95,96,99]\n",
    "}\n",
    "name=(input(\"Please provide your name;\"))\n",
    "for key in student_record:\n",
    "    if name == key:\n",
    "        print(f'Record found,your score in the following subject (Math,English,Chemistry,Biology and Agric) are as followed {student_record[key]}')\n",
    "        continue\n",
    "    \n",
    "else:\n",
    "    print('Record not found')"
   ]
  },
  {
   "cell_type": "code",
   "execution_count": 10,
   "id": "719d1aa9",
   "metadata": {},
   "outputs": [
    {
     "name": "stdout",
     "output_type": "stream",
     "text": [
      "Enter a number:77\n",
      "The sqrt of 77 is 8.774964387392123\n",
      "Enter a number:77\n",
      "The sqrt of 77 is 8.774964387392123\n",
      "Enter a number:99\n",
      "The sqrt of 99 is 9.9498743710662\n",
      "Enter a number:9\n",
      "The sqrt of 9 is 3.0\n",
      "Enter a number:1\n",
      "The sqrt of 1 is 1.0\n",
      "Enter a number:2\n",
      "The sqrt of 2 is 1.4142135623730951\n",
      "Enter a number:3\n",
      "The sqrt of 3 is 1.7320508075688772\n",
      "Enter a number:4\n",
      "The sqrt of 4 is 2.0\n",
      "Enter a number:5\n",
      "The sqrt of 5 is 2.23606797749979\n",
      "Enter a number:6\n",
      "The sqrt of 6 is 2.449489742783178\n",
      "Enter a number:7\n",
      "The sqrt of 7 is 2.6457513110645907\n",
      "Enter a number:8\n",
      "The sqrt of 8 is 2.8284271247461903\n",
      "Enter a number:9\n",
      "The sqrt of 9 is 3.0\n",
      "Enter a number:0\n"
     ]
    }
   ],
   "source": [
    "import math\n",
    "num=int(input(\"Enter a number:\"))\n",
    "counter=1\n",
    "while num!=0:\n",
    "    print(f'The sqrt of {num} is {math.sqrt(num)}')\n",
    "    counter=counter+1\n",
    "    num=int(input(\"Enter a number:\"))"
   ]
  },
  {
   "cell_type": "code",
   "execution_count": 14,
   "id": "cdcc4c2a",
   "metadata": {},
   "outputs": [
    {
     "name": "stdout",
     "output_type": "stream",
     "text": [
      "[30, 36, 42, 31, 34, 41, 39, 30, 26, 38, 31, 29, 25, 46, 30, 48, 29, 48, 32, 27, 39, 37, 45, 31, 40, 26, 35, 30, 31, 40, 27, 38, 35, 38, 44, 46, 27, 28, 32, 48, 33, 47, 29, 29, 43, 41, 47, 28, 43, 29]\n"
     ]
    }
   ],
   "source": [
    "import random\n",
    "number=[]\n",
    "counter=1 \n",
    "while counter <=50:\n",
    "    num= random.randint(25,48)\n",
    "    number.append(num)\n",
    "    counter+=1\n",
    "print(number)"
   ]
  },
  {
   "cell_type": "code",
   "execution_count": 15,
   "id": "2996ad4c",
   "metadata": {},
   "outputs": [
    {
     "name": "stdout",
     "output_type": "stream",
     "text": [
      "Your Deck Of Card Is.....\n",
      "13 of diamond\n",
      "12 of heart\n",
      "12 of clubs\n",
      "9 of diamond\n",
      "6 of heart\n"
     ]
    }
   ],
   "source": [
    "#IMPORTING THE NEEDED MODULES\n",
    "import itertools,random\n",
    "#MAKING A DECK CARDS\n",
    "Deck=list(itertools.product(range(1,14),['spade','heart','diamond','clubs']))\n",
    "#SUFFLING THE DECK OF CARDS \n",
    "random.shuffle(Deck)\n",
    "#PRINTING OUT FIVE RANDOM CARDS FROM THE DECK\n",
    "print('Your Deck Of Card Is.....') \n",
    "for i in range (1,6):\n",
    "    print(Deck[i][0], 'of',Deck[i][1])"
   ]
  },
  {
   "cell_type": "code",
   "execution_count": null,
   "id": "47e97c62",
   "metadata": {},
   "outputs": [],
   "source": []
  }
 ],
 "metadata": {
  "kernelspec": {
   "display_name": "Python 3 (ipykernel)",
   "language": "python",
   "name": "python3"
  },
  "language_info": {
   "codemirror_mode": {
    "name": "ipython",
    "version": 3
   },
   "file_extension": ".py",
   "mimetype": "text/x-python",
   "name": "python",
   "nbconvert_exporter": "python",
   "pygments_lexer": "ipython3",
   "version": "3.9.12"
  }
 },
 "nbformat": 4,
 "nbformat_minor": 5
}
