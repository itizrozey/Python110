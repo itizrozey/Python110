{
 "cells": [
  {
   "cell_type": "code",
   "execution_count": 1,
   "id": "47cecf21",
   "metadata": {},
   "outputs": [],
   "source": [
    "import pymysql"
   ]
  },
  {
   "cell_type": "code",
   "execution_count": 7,
   "id": "51ccda3c",
   "metadata": {},
   "outputs": [],
   "source": [
    "mydb=pymysql.connect(\n",
    "    host='localhost',\n",
    "    user='root',\n",
    "    password='Thejerryy2305',\n",
    "    database='machines'\n",
    ")\n",
    "mycursor=mydb.cursor()"
   ]
  },
  {
   "cell_type": "code",
   "execution_count": 8,
   "id": "a24ccf06",
   "metadata": {},
   "outputs": [
    {
     "data": {
      "text/plain": [
       "0"
      ]
     },
     "execution_count": 8,
     "metadata": {},
     "output_type": "execute_result"
    }
   ],
   "source": [
    "mycursor.execute('alter table staffrecords add column staffaddress text not null')"
   ]
  },
  {
   "cell_type": "code",
   "execution_count": 9,
   "id": "08b16d22",
   "metadata": {},
   "outputs": [
    {
     "data": {
      "text/plain": [
       "0"
      ]
     },
     "execution_count": 9,
     "metadata": {},
     "output_type": "execute_result"
    }
   ],
   "source": [
    "mycursor.execute('alter table staffrecords add column staffphonenumber text not null after staffage')"
   ]
  },
  {
   "cell_type": "code",
   "execution_count": 10,
   "id": "5d2ebb34",
   "metadata": {},
   "outputs": [
    {
     "data": {
      "text/plain": [
       "0"
      ]
     },
     "execution_count": 10,
     "metadata": {},
     "output_type": "execute_result"
    }
   ],
   "source": [
    "mycursor.execute('alter table staffrecords modify column staffphonenumber varchar(11) not null')"
   ]
  },
  {
   "cell_type": "code",
   "execution_count": 11,
   "id": "3650beb6",
   "metadata": {},
   "outputs": [
    {
     "data": {
      "text/plain": [
       "0"
      ]
     },
     "execution_count": 11,
     "metadata": {},
     "output_type": "execute_result"
    }
   ],
   "source": [
    "mycursor.execute('alter table staffrecords change column staffphonenumber staffcontact varchar(11) not null')"
   ]
  },
  {
   "cell_type": "code",
   "execution_count": 12,
   "id": "71d391e2",
   "metadata": {},
   "outputs": [
    {
     "data": {
      "text/plain": [
       "0"
      ]
     },
     "execution_count": 12,
     "metadata": {},
     "output_type": "execute_result"
    }
   ],
   "source": [
    "mycursor.execute('alter table staffrecords drop column staffaddress')"
   ]
  },
  {
   "cell_type": "code",
   "execution_count": 13,
   "id": "d6501b6f",
   "metadata": {},
   "outputs": [
    {
     "data": {
      "text/plain": [
       "0"
      ]
     },
     "execution_count": 13,
     "metadata": {},
     "output_type": "execute_result"
    }
   ],
   "source": [
    "mycursor.execute('alter table staffrecords rename to staffdetails')"
   ]
  },
  {
   "cell_type": "code",
   "execution_count": 22,
   "id": "4b399c7c",
   "metadata": {},
   "outputs": [],
   "source": [
    "#sql='insert into staffdetails(id,staffname,staffgender,staffage,staffcontact) values(%s,%s,%s,%s,%s)'\n",
    "#val=[(11,'Ade Henry','Male',35,'09067834567'),\n",
    "     #(22,'Sasha Banks','Female',30,'09078578536'),\n",
    "     #(33,'Muhammed Olu','Nonbinary',23,'07085685756')]\n",
    "#mycursor.executemany(sql,val)\n",
    "#mydb.commit()"
   ]
  },
  {
   "cell_type": "code",
   "execution_count": 24,
   "id": "3b868b1d",
   "metadata": {},
   "outputs": [],
   "source": [
    "sql='insert into staffdetails(id,staffname,staffgender,staffage,staffcontact) values(%s,%s,%s,%s,%s)'\n",
    "val=[(1111,'Ade Henry','Male',35,'09067834567'),\n",
    "     (2222,'Sasha Banks','Female',30,'09078578536'),\n",
    "     (3333,'Muhammed Olu','Nonbinary',23,'07085685756')]\n",
    "mycursor.executemany(sql,val)\n",
    "mydb.commit()"
   ]
  },
  {
   "cell_type": "code",
   "execution_count": 25,
   "id": "1d489b7b",
   "metadata": {},
   "outputs": [
    {
     "name": "stdout",
     "output_type": "stream",
     "text": [
      "(1, 'Ade Henry', 'Male', 35, '09067834567')\n",
      "(2, 'Sasha Banks', 'Female', 30, '09078578536')\n",
      "(3, 'Muhammed Olu', 'Nom-binary', 23, '07085685756')\n",
      "(11, 'Ade Henry', 'Male', 35, '09067834567')\n",
      "(22, 'Sasha Banks', 'Female', 30, '09078578536')\n",
      "(33, 'Muhammed Olu', 'Nonbinary', 23, '07085685756')\n",
      "(1111, 'Ade Henry', 'Male', 35, '09067834567')\n",
      "(2222, 'Sasha Banks', 'Female', 30, '09078578536')\n",
      "(3333, 'Muhammed Olu', 'Nonbinary', 23, '07085685756')\n"
     ]
    }
   ],
   "source": [
    "mycursor.execute('select * from staffdetails')\n",
    "for x in mycursor:\n",
    "    print(x)"
   ]
  },
  {
   "cell_type": "code",
   "execution_count": 28,
   "id": "dd692329",
   "metadata": {},
   "outputs": [
    {
     "name": "stdout",
     "output_type": "stream",
     "text": [
      "(1, 'Ade Henry', 'Male', 40, '09067834567')\n",
      "(2, 'Sasha Banks', 'Female', 30, '09078578536')\n",
      "(3, 'Muhammed Olu', 'Nom-binary', 23, '07085685756')\n",
      "(11, 'Ade Henry', 'Male', 35, '09067834567')\n",
      "(22, 'Sasha Banks', 'Female', 30, '09078578536')\n",
      "(33, 'Muhammed Olu', 'Nonbinary', 23, '07085685756')\n",
      "(1111, 'Ade Henry', 'Male', 35, '09067834567')\n",
      "(2222, 'Sasha Banks', 'Female', 30, '09078578536')\n",
      "(3333, 'Muhammed Olu', 'Nonbinary', 23, '07085685756')\n"
     ]
    }
   ],
   "source": [
    "mycursor.execute('update staffdetails set staffage=40 where id=1')\n",
    "mycursor.execute('select * from staffdetails')\n",
    "for x in mycursor:\n",
    "    print(x)"
   ]
  },
  {
   "cell_type": "code",
   "execution_count": 30,
   "id": "a4a3fcf5",
   "metadata": {},
   "outputs": [
    {
     "name": "stdout",
     "output_type": "stream",
     "text": [
      "(1, 'Ade Henry', 'Male', 40, '09067834567')\n",
      "(2, 'Sasha Banks', 'Female', 30, '09078578536')\n",
      "(3, 'Muhammed Olu', 'Nom-binary', 23, '07085685756')\n",
      "(11, 'Ade Henry', 'Male', 35, '09067834567')\n",
      "(22, 'Sasha Banks', 'Female', 30, '09078578536')\n",
      "(33, 'Muhammed Olu', 'Nonbinary', 23, '07085685756')\n",
      "(1111, 'Ade Henry', 'Male', 35, '09067834567')\n",
      "(2222, 'Sasha Banks', 'Female', 30, '09078578536')\n"
     ]
    }
   ],
   "source": [
    "mycursor.execute('delete from staffdetails where id=3333')\n",
    "mycursor.execute('select * from staffdetails')\n",
    "for x in mycursor:\n",
    "    print(x)"
   ]
  },
  {
   "cell_type": "code",
   "execution_count": null,
   "id": "86c8cab5",
   "metadata": {},
   "outputs": [],
   "source": []
  }
 ],
 "metadata": {
  "kernelspec": {
   "display_name": "Python 3 (ipykernel)",
   "language": "python",
   "name": "python3"
  },
  "language_info": {
   "codemirror_mode": {
    "name": "ipython",
    "version": 3
   },
   "file_extension": ".py",
   "mimetype": "text/x-python",
   "name": "python",
   "nbconvert_exporter": "python",
   "pygments_lexer": "ipython3",
   "version": "3.9.12"
  }
 },
 "nbformat": 4,
 "nbformat_minor": 5
}
