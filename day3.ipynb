{
 "cells": [
  {
   "cell_type": "markdown",
   "id": "6483b376",
   "metadata": {},
   "source": [
    "## numbers=(84,5,10,12,5,80,45,5,63,25,29,28,20)\n",
    "print(type(numbers))\n"
   ]
  },
  {
   "cell_type": "code",
   "execution_count": 6,
   "id": "83402978",
   "metadata": {},
   "outputs": [
    {
     "name": "stdout",
     "output_type": "stream",
     "text": [
      "13\n"
     ]
    }
   ],
   "source": [
    "print(len(numbers))\n"
   ]
  },
  {
   "cell_type": "code",
   "execution_count": 8,
   "id": "9af81191",
   "metadata": {},
   "outputs": [
    {
     "name": "stdout",
     "output_type": "stream",
     "text": [
      "63\n"
     ]
    }
   ],
   "source": [
    "print(numbers[8])"
   ]
  },
  {
   "cell_type": "code",
   "execution_count": 9,
   "id": "f8b3d1f3",
   "metadata": {},
   "outputs": [
    {
     "name": "stdout",
     "output_type": "stream",
     "text": [
      "45\n"
     ]
    }
   ],
   "source": [
    "print(numbers[-7])"
   ]
  },
  {
   "cell_type": "code",
   "execution_count": 11,
   "id": "0626191b",
   "metadata": {},
   "outputs": [
    {
     "name": "stdout",
     "output_type": "stream",
     "text": [
      "(12, 5, 80, 45, 5, 63, 25)\n"
     ]
    }
   ],
   "source": [
    "print(numbers[3:10])"
   ]
  },
  {
   "cell_type": "code",
   "execution_count": 12,
   "id": "1871d433",
   "metadata": {},
   "outputs": [
    {
     "name": "stdout",
     "output_type": "stream",
     "text": [
      "5\n"
     ]
    }
   ],
   "source": [
    "print(numbers.index(80))"
   ]
  },
  {
   "cell_type": "code",
   "execution_count": 14,
   "id": "dcfe3b8b",
   "metadata": {},
   "outputs": [
    {
     "name": "stdout",
     "output_type": "stream",
     "text": [
      "3\n"
     ]
    }
   ],
   "source": [
    "print(number.count(5))"
   ]
  },
  {
   "cell_type": "code",
   "execution_count": 15,
   "id": "9ce29568",
   "metadata": {},
   "outputs": [
    {
     "name": "stdout",
     "output_type": "stream",
     "text": [
      "True\n"
     ]
    }
   ],
   "source": [
    "print(10 in number)"
   ]
  },
  {
   "cell_type": "code",
   "execution_count": 16,
   "id": "f63152b5",
   "metadata": {},
   "outputs": [
    {
     "name": "stdout",
     "output_type": "stream",
     "text": [
      "<class 'list'>\n"
     ]
    }
   ],
   "source": [
    "fruits=['mango','Orange','Apple','Pawpaw','Strawberry','Banana']\n",
    "print(type(fruits))"
   ]
  },
  {
   "cell_type": "code",
   "execution_count": 21,
   "id": "f62fddfb",
   "metadata": {},
   "outputs": [
    {
     "name": "stdout",
     "output_type": "stream",
     "text": [
      "['mango', 'Orange', 'Apple', 'Pawpaw', 'Strawberry', 'Banana', 'pear', 'pear']\n"
     ]
    }
   ],
   "source": [
    "fruits.append('pear')\n",
    "print(fruits)"
   ]
  },
  {
   "cell_type": "code",
   "execution_count": 22,
   "id": "141568df",
   "metadata": {},
   "outputs": [
    {
     "name": "stdout",
     "output_type": "stream",
     "text": [
      "['mango', 'Orange', 'Apple', 'Pawpaw', 'Strawberry', 'Banana', 'pear', 'pear', 'Orange', 'Apple', 'Grape', 'Coconut', 'Lemon']\n"
     ]
    }
   ],
   "source": [
    "fruits2=['Orange','Apple','Grape','Coconut','Lemon']\n",
    "fruits.extend(fruits2)\n",
    "print(fruits)"
   ]
  },
  {
   "cell_type": "code",
   "execution_count": 26,
   "id": "45f12335",
   "metadata": {},
   "outputs": [
    {
     "name": "stdout",
     "output_type": "stream",
     "text": [
      "['mango', 'Orange', 'Apple', 'Pawpaw', 'Strawberry', 'Apple', 'Banana', 'pear', 'pear', 'Orange', 'Apple', 'Grape', 'Coconut', 'Lemon']\n"
     ]
    }
   ],
   "source": [
    "fruits.insert(5,'Apple')\n",
    "print(fruits)"
   ]
  },
  {
   "cell_type": "code",
   "execution_count": 28,
   "id": "da030bde",
   "metadata": {},
   "outputs": [
    {
     "name": "stdout",
     "output_type": "stream",
     "text": [
      "['mango', 'Orange', 'Apple', 'Pawpaw', 'Strawberry', 'Apple', 'Banana', 'pear', 'pear', 'Orange', 'Apple', 'Grape']\n"
     ]
    }
   ],
   "source": [
    "fruits.pop()\n",
    "print(fruits)"
   ]
  },
  {
   "cell_type": "code",
   "execution_count": 30,
   "id": "979acd35",
   "metadata": {},
   "outputs": [
    {
     "name": "stdout",
     "output_type": "stream",
     "text": [
      "['mango', 'Orange', 'Apple', 'Pawpaw', 'Strawberry', 'Apple', 'Banana', 'pear', 'Orange', 'Apple', 'Grape']\n"
     ]
    }
   ],
   "source": [
    "fruits.remove('pear')\n",
    "print(fruits)"
   ]
  },
  {
   "cell_type": "code",
   "execution_count": 31,
   "id": "c4b438d5",
   "metadata": {},
   "outputs": [
    {
     "name": "stdout",
     "output_type": "stream",
     "text": [
      "['Apple', 'Apple', 'Apple', 'Banana', 'Grape', 'Orange', 'Orange', 'Pawpaw', 'Strawberry', 'mango', 'pear']\n"
     ]
    }
   ],
   "source": [
    "fruits.sort()\n",
    "print(fruits)"
   ]
  },
  {
   "cell_type": "code",
   "execution_count": 32,
   "id": "6f0605a0",
   "metadata": {},
   "outputs": [
    {
     "name": "stdout",
     "output_type": "stream",
     "text": [
      "['pear', 'mango', 'Strawberry', 'Pawpaw', 'Orange', 'Orange', 'Grape', 'Banana', 'Apple', 'Apple', 'Apple']\n"
     ]
    }
   ],
   "source": [
    "fruits.reverse()\n",
    "print(fruits)"
   ]
  },
  {
   "cell_type": "code",
   "execution_count": 34,
   "id": "9beb9a78",
   "metadata": {},
   "outputs": [
    {
     "name": "stdout",
     "output_type": "stream",
     "text": [
      "['pear', 'mango', 'Strawberry', 'Pawpaw', 'Orange', 'Orange', 'Grape', 'Banana', 'Apple', 'Apple', 'Apple']\n"
     ]
    }
   ],
   "source": [
    "fruits_copy=fruits.copy()\n",
    "print(fruits_copy)"
   ]
  },
  {
   "cell_type": "code",
   "execution_count": 35,
   "id": "960f721e",
   "metadata": {},
   "outputs": [
    {
     "name": "stdout",
     "output_type": "stream",
     "text": [
      "[]\n"
     ]
    }
   ],
   "source": [
    "fruits_copy.clear()\n",
    "print(fruits_copy)"
   ]
  },
  {
   "cell_type": "code",
   "execution_count": 36,
   "id": "096578c1",
   "metadata": {},
   "outputs": [
    {
     "ename": "NameError",
     "evalue": "name 'fruits_copy' is not defined",
     "output_type": "error",
     "traceback": [
      "\u001b[1;31m---------------------------------------------------------------------------\u001b[0m",
      "\u001b[1;31mNameError\u001b[0m                                 Traceback (most recent call last)",
      "Input \u001b[1;32mIn [36]\u001b[0m, in \u001b[0;36m<cell line: 2>\u001b[1;34m()\u001b[0m\n\u001b[0;32m      1\u001b[0m \u001b[38;5;28;01mdel\u001b[39;00m(fruits_copy)\n\u001b[1;32m----> 2\u001b[0m \u001b[38;5;28mprint\u001b[39m(\u001b[43mfruits_copy\u001b[49m)\n",
      "\u001b[1;31mNameError\u001b[0m: name 'fruits_copy' is not defined"
     ]
    }
   ],
   "source": [
    "del(fruits_copy)\n",
    "print(fruits_copy)"
   ]
  },
  {
   "cell_type": "code",
   "execution_count": 37,
   "id": "575b84e4",
   "metadata": {},
   "outputs": [
    {
     "name": "stdout",
     "output_type": "stream",
     "text": [
      "Paul\n"
     ]
    }
   ],
   "source": [
    "details={\n",
    "    'Name':'Paul',\n",
    "    'Age':35,\n",
    "    'Gender':'Male',\n",
    "    'Height':1.85,\n",
    "    'Weight':75\n",
    "    }\n",
    "print(details['Name'])"
   ]
  },
  {
   "cell_type": "code",
   "execution_count": 39,
   "id": "fef6fd3c",
   "metadata": {},
   "outputs": [
    {
     "name": "stdout",
     "output_type": "stream",
     "text": [
      "dict_keys(['Name', 'Age', 'Gender', 'Height', 'Weight'])\n"
     ]
    }
   ],
   "source": [
    "print(details.keys())"
   ]
  },
  {
   "cell_type": "code",
   "execution_count": 40,
   "id": "ac1d521b",
   "metadata": {},
   "outputs": [
    {
     "name": "stdout",
     "output_type": "stream",
     "text": [
      "dict_values(['Paul', 35, 'Male', 1.85, 75])\n"
     ]
    }
   ],
   "source": [
    "print(details.values())"
   ]
  },
  {
   "cell_type": "code",
   "execution_count": 42,
   "id": "902f1dcd",
   "metadata": {},
   "outputs": [
    {
     "name": "stdout",
     "output_type": "stream",
     "text": [
      "dict_items([('Name', 'Paul'), ('Age', 35), ('Gender', 'Male'), ('Height', 1.85), ('Weight', 75)])\n"
     ]
    }
   ],
   "source": [
    "print(details.items())"
   ]
  },
  {
   "cell_type": "code",
   "execution_count": 43,
   "id": "e71a3af6",
   "metadata": {},
   "outputs": [
    {
     "name": "stdout",
     "output_type": "stream",
     "text": [
      "{'Name': 'Paul', 'Age': 35, 'Gender': 'Male', 'Height': 1.9, 'Weight': 75}\n"
     ]
    }
   ],
   "source": [
    "r={'Height':1.90}\n",
    "details.update(r)\n",
    "print(details)"
   ]
  },
  {
   "cell_type": "code",
   "execution_count": 45,
   "id": "3d38bce6",
   "metadata": {},
   "outputs": [
    {
     "name": "stdout",
     "output_type": "stream",
     "text": [
      "Mercy\n"
     ]
    }
   ],
   "source": [
    "records={\n",
    "    'Name':['Paul','Job','Mercy','Samuel','Hope'],\n",
    "    'Age':[25,30,21,40,28,30],\n",
    "    'Score':[90,85,75,80,92]\n",
    "}\n",
    "print(records['Name'][2])"
   ]
  },
  {
   "cell_type": "code",
   "execution_count": null,
   "id": "531534c8",
   "metadata": {},
   "outputs": [],
   "source": []
  }
 ],
 "metadata": {
  "kernelspec": {
   "display_name": "Python 3 (ipykernel)",
   "language": "python",
   "name": "python3"
  },
  "language_info": {
   "codemirror_mode": {
    "name": "ipython",
    "version": 3
   },
   "file_extension": ".py",
   "mimetype": "text/x-python",
   "name": "python",
   "nbconvert_exporter": "python",
   "pygments_lexer": "ipython3",
   "version": "3.9.12"
  }
 },
 "nbformat": 4,
 "nbformat_minor": 5
}
